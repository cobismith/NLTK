
In [1]:

import nltk

In [2]:

nltk.download('all')

[nltk_data] Downloading collection u'all'
[nltk_data]    | 
[nltk_data]    | Downloading package abc to
[nltk_data]    |     /home/researcher/nltk_data...
[nltk_data]    |   Unzipping corpora/abc.zip.
[nltk_data]    | Downloading package alpino to
[nltk_data]    |     /home/researcher/nltk_data...
[nltk_data]    |   Unzipping corpora/alpino.zip.
[nltk_data]    | Downloading package biocreative_ppi to
[nltk_data]    |     /home/researcher/nltk_data...
[nltk_data]    |   Unzipping corpora/biocreative_ppi.zip.
[nltk_data]    | Downloading package brown to
[nltk_data]    |     /home/researcher/nltk_data...
[nltk_data]    |   Unzipping corpora/brown.zip.
[nltk_data]    | Downloading package brown_tei to
[nltk_data]    |     /home/researcher/nltk_data...
[nltk_data]    |   Unzipping corpora/brown_tei.zip.
[nltk_data]    | Downloading package cess_cat to
[nltk_data]    |     /home/researcher/nltk_data...
[nltk_data]    |   Unzipping corpora/cess_cat.zip.
[nltk_data]    | Downloading package cess_esp to
[nltk_data]    |     /home/researcher/nltk_data...
[nltk_data]    |   Unzipping corpora/cess_esp.zip.
[nltk_data]    | Downloading package chat80 to
[nltk_data]    |     /home/researcher/nltk_data...
[nltk_data]    |   Unzipping corpora/chat80.zip.
[nltk_data]    | Downloading package city_database to
[nltk_data]    |     /home/researcher/nltk_data...
[nltk_data]    |   Unzipping corpora/city_database.zip.
[nltk_data]    | Downloading package cmudict to
[nltk_data]    |     /home/researcher/nltk_data...
[nltk_data]    |   Unzipping corpora/cmudict.zip.
[nltk_data]    | Downloading package comparative_sentences to
[nltk_data]    |     /home/researcher/nltk_data...
[nltk_data]    |   Unzipping corpora/comparative_sentences.zip.
[nltk_data]    | Downloading package comtrans to
[nltk_data]    |     /home/researcher/nltk_data...
[nltk_data]    | Downloading package conll2000 to
[nltk_data]    |     /home/researcher/nltk_data...
[nltk_data]    |   Unzipping corpora/conll2000.zip.
[nltk_data]    | Downloading package conll2002 to
[nltk_data]    |     /home/researcher/nltk_data...
[nltk_data]    |   Unzipping corpora/conll2002.zip.
[nltk_data]    | Downloading package conll2007 to
[nltk_data]    |     /home/researcher/nltk_data...
[nltk_data]    | Downloading package crubadan to
[nltk_data]    |     /home/researcher/nltk_data...
[nltk_data]    |   Unzipping corpora/crubadan.zip.
[nltk_data]    | Downloading package dependency_treebank to
[nltk_data]    |     /home/researcher/nltk_data...
[nltk_data]    |   Unzipping corpora/dependency_treebank.zip.
[nltk_data]    | Downloading package europarl_raw to
[nltk_data]    |     /home/researcher/nltk_data...
[nltk_data]    |   Unzipping corpora/europarl_raw.zip.
[nltk_data]    | Downloading package floresta to
[nltk_data]    |     /home/researcher/nltk_data...
[nltk_data]    |   Unzipping corpora/floresta.zip.
[nltk_data]    | Downloading package framenet_v15 to
[nltk_data]    |     /home/researcher/nltk_data...
[nltk_data]    |   Unzipping corpora/framenet_v15.zip.
[nltk_data]    | Downloading package gazetteers to
[nltk_data]    |     /home/researcher/nltk_data...
[nltk_data]    |   Unzipping corpora/gazetteers.zip.
[nltk_data]    | Downloading package genesis to
[nltk_data]    |     /home/researcher/nltk_data...
[nltk_data]    |   Unzipping corpora/genesis.zip.
[nltk_data]    | Downloading package gutenberg to
[nltk_data]    |     /home/researcher/nltk_data...
[nltk_data]    |   Unzipping corpora/gutenberg.zip.
[nltk_data]    | Downloading package ieer to
[nltk_data]    |     /home/researcher/nltk_data...
[nltk_data]    |   Unzipping corpora/ieer.zip.
[nltk_data]    | Downloading package inaugural to
[nltk_data]    |     /home/researcher/nltk_data...
[nltk_data]    |   Unzipping corpora/inaugural.zip.
[nltk_data]    | Downloading package indian to
[nltk_data]    |     /home/researcher/nltk_data...
[nltk_data]    |   Unzipping corpora/indian.zip.
[nltk_data]    | Downloading package jeita to
[nltk_data]    |     /home/researcher/nltk_data...
[nltk_data]    | Downloading package kimmo to
[nltk_data]    |     /home/researcher/nltk_data...
[nltk_data]    |   Unzipping corpora/kimmo.zip.
[nltk_data]    | Downloading package knbc to
[nltk_data]    |     /home/researcher/nltk_data...
[nltk_data]    | Downloading package lin_thesaurus to
[nltk_data]    |     /home/researcher/nltk_data...
[nltk_data]    |   Unzipping corpora/lin_thesaurus.zip.
[nltk_data]    | Downloading package mac_morpho to
[nltk_data]    |     /home/researcher/nltk_data...
[nltk_data]    |   Unzipping corpora/mac_morpho.zip.
[nltk_data]    | Downloading package machado to
[nltk_data]    |     /home/researcher/nltk_data...
[nltk_data]    | Downloading package masc_tagged to
[nltk_data]    |     /home/researcher/nltk_data...
[nltk_data]    | Downloading package moses_sample to
[nltk_data]    |     /home/researcher/nltk_data...
[nltk_data]    |   Unzipping models/moses_sample.zip.
[nltk_data]    | Downloading package movie_reviews to
[nltk_data]    |     /home/researcher/nltk_data...
[nltk_data]    |   Unzipping corpora/movie_reviews.zip.
[nltk_data]    | Downloading package names to
[nltk_data]    |     /home/researcher/nltk_data...
[nltk_data]    |   Unzipping corpora/names.zip.
[nltk_data]    | Downloading package nombank.1.0 to
[nltk_data]    |     /home/researcher/nltk_data...
[nltk_data]    | Downloading package nps_chat to
[nltk_data]    |     /home/researcher/nltk_data...
[nltk_data]    |   Unzipping corpora/nps_chat.zip.
[nltk_data]    | Downloading package oanc_masc to
[nltk_data]    |     /home/researcher/nltk_data...
[nltk_data]    | Downloading package omw to
[nltk_data]    |     /home/researcher/nltk_data...
[nltk_data]    |   Unzipping corpora/omw.zip.
[nltk_data]    | Downloading package opinion_lexicon to
[nltk_data]    |     /home/researcher/nltk_data...
[nltk_data]    |   Unzipping corpora/opinion_lexicon.zip.
[nltk_data]    | Downloading package paradigms to
[nltk_data]    |     /home/researcher/nltk_data...
[nltk_data]    |   Unzipping corpora/paradigms.zip.
[nltk_data]    | Downloading package pil to
[nltk_data]    |     /home/researcher/nltk_data...
[nltk_data]    |   Unzipping corpora/pil.zip.
[nltk_data]    | Downloading package pl196x to
[nltk_data]    |     /home/researcher/nltk_data...
[nltk_data]    |   Unzipping corpora/pl196x.zip.
[nltk_data]    | Downloading package ppattach to
[nltk_data]    |     /home/researcher/nltk_data...
[nltk_data]    |   Unzipping corpora/ppattach.zip.
[nltk_data]    | Downloading package problem_reports to
[nltk_data]    |     /home/researcher/nltk_data...
[nltk_data]    |   Unzipping corpora/problem_reports.zip.
[nltk_data]    | Downloading package propbank to
[nltk_data]    |     /home/researcher/nltk_data...
[nltk_data]    | Downloading package ptb to
[nltk_data]    |     /home/researcher/nltk_data...
[nltk_data]    |   Unzipping corpora/ptb.zip.
[nltk_data]    | Downloading package oanc_masc to
[nltk_data]    |     /home/researcher/nltk_data...
[nltk_data]    |   Package oanc_masc is already up-to-date!
[nltk_data]    | Downloading package product_reviews_1 to
[nltk_data]    |     /home/researcher/nltk_data...
[nltk_data]    |   Unzipping corpora/product_reviews_1.zip.
[nltk_data]    | Downloading package product_reviews_2 to
[nltk_data]    |     /home/researcher/nltk_data...
[nltk_data]    |   Unzipping corpora/product_reviews_2.zip.
[nltk_data]    | Downloading package pros_cons to
[nltk_data]    |     /home/researcher/nltk_data...
[nltk_data]    |   Unzipping corpora/pros_cons.zip.
[nltk_data]    | Downloading package qc to
[nltk_data]    |     /home/researcher/nltk_data...
[nltk_data]    |   Unzipping corpora/qc.zip.
[nltk_data]    | Downloading package reuters to
[nltk_data]    |     /home/researcher/nltk_data...
[nltk_data]    | Downloading package rte to
[nltk_data]    |     /home/researcher/nltk_data...
[nltk_data]    |   Unzipping corpora/rte.zip.
[nltk_data]    | Downloading package semcor to
[nltk_data]    |     /home/researcher/nltk_data...
[nltk_data]    | Downloading package senseval to
[nltk_data]    |     /home/researcher/nltk_data...
[nltk_data]    |   Unzipping corpora/senseval.zip.
[nltk_data]    | Downloading package sentiwordnet to
[nltk_data]    |     /home/researcher/nltk_data...
[nltk_data]    |   Unzipping corpora/sentiwordnet.zip.
[nltk_data]    | Downloading package sentence_polarity to
[nltk_data]    |     /home/researcher/nltk_data...
[nltk_data]    |   Unzipping corpora/sentence_polarity.zip.
[nltk_data]    | Downloading package shakespeare to
[nltk_data]    |     /home/researcher/nltk_data...
[nltk_data]    |   Unzipping corpora/shakespeare.zip.
[nltk_data]    | Downloading package sinica_treebank to
[nltk_data]    |     /home/researcher/nltk_data...
[nltk_data]    |   Unzipping corpora/sinica_treebank.zip.
[nltk_data]    | Downloading package smultron to
[nltk_data]    |     /home/researcher/nltk_data...
[nltk_data]    |   Unzipping corpora/smultron.zip.
[nltk_data]    | Downloading package state_union to
[nltk_data]    |     /home/researcher/nltk_data...
[nltk_data]    |   Unzipping corpora/state_union.zip.
[nltk_data]    | Downloading package stopwords to
[nltk_data]    |     /home/researcher/nltk_data...
[nltk_data]    |   Unzipping corpora/stopwords.zip.
[nltk_data]    | Downloading package subjectivity to
[nltk_data]    |     /home/researcher/nltk_data...
[nltk_data]    |   Unzipping corpora/subjectivity.zip.
[nltk_data]    | Downloading package swadesh to
[nltk_data]    |     /home/researcher/nltk_data...
[nltk_data]    |   Unzipping corpora/swadesh.zip.
[nltk_data]    | Downloading package switchboard to
[nltk_data]    |     /home/researcher/nltk_data...
[nltk_data]    |   Unzipping corpora/switchboard.zip.
[nltk_data]    | Downloading package timit to
[nltk_data]    |     /home/researcher/nltk_data...
[nltk_data]    |   Unzipping corpora/timit.zip.
[nltk_data]    | Downloading package toolbox to
[nltk_data]    |     /home/researcher/nltk_data...
[nltk_data]    |   Unzipping corpora/toolbox.zip.
[nltk_data]    | Downloading package treebank to
[nltk_data]    |     /home/researcher/nltk_data...
[nltk_data]    |   Unzipping corpora/treebank.zip.
[nltk_data]    | Downloading package twitter_samples to
[nltk_data]    |     /home/researcher/nltk_data...
[nltk_data]    |   Unzipping corpora/twitter_samples.zip.
[nltk_data]    | Downloading package udhr to
[nltk_data]    |     /home/researcher/nltk_data...
[nltk_data]    |   Unzipping corpora/udhr.zip.
[nltk_data]    | Downloading package udhr2 to
[nltk_data]    |     /home/researcher/nltk_data...
[nltk_data]    |   Unzipping corpora/udhr2.zip.
[nltk_data]    | Downloading package unicode_samples to
[nltk_data]    |     /home/researcher/nltk_data...
[nltk_data]    |   Unzipping corpora/unicode_samples.zip.
[nltk_data]    | Downloading package universal_treebanks_v20 to
[nltk_data]    |     /home/researcher/nltk_data...
[nltk_data]    | Downloading package verbnet to
[nltk_data]    |     /home/researcher/nltk_data...
[nltk_data]    |   Unzipping corpora/verbnet.zip.
[nltk_data]    | Downloading package webtext to
[nltk_data]    |     /home/researcher/nltk_data...
[nltk_data]    |   Unzipping corpora/webtext.zip.
[nltk_data]    | Downloading package wordnet to
[nltk_data]    |     /home/researcher/nltk_data...
[nltk_data]    |   Unzipping corpora/wordnet.zip.
[nltk_data]    | Downloading package wordnet_ic to
[nltk_data]    |     /home/researcher/nltk_data...
[nltk_data]    |   Unzipping corpora/wordnet_ic.zip.
[nltk_data]    | Downloading package words to
[nltk_data]    |     /home/researcher/nltk_data...
[nltk_data]    |   Unzipping corpora/words.zip.
[nltk_data]    | Downloading package ycoe to
[nltk_data]    |     /home/researcher/nltk_data...
[nltk_data]    |   Unzipping corpora/ycoe.zip.
[nltk_data]    | Downloading package rslp to
[nltk_data]    |     /home/researcher/nltk_data...
[nltk_data]    |   Unzipping stemmers/rslp.zip.
[nltk_data]    | Downloading package hmm_treebank_pos_tagger to
[nltk_data]    |     /home/researcher/nltk_data...
[nltk_data]    |   Unzipping taggers/hmm_treebank_pos_tagger.zip.
[nltk_data]    | Downloading package maxent_treebank_pos_tagger to
[nltk_data]    |     /home/researcher/nltk_data...
[nltk_data]    |   Unzipping taggers/maxent_treebank_pos_tagger.zip.
[nltk_data]    | Downloading package universal_tagset to
[nltk_data]    |     /home/researcher/nltk_data...
[nltk_data]    |   Unzipping taggers/universal_tagset.zip.
[nltk_data]    | Downloading package maxent_ne_chunker to
[nltk_data]    |     /home/researcher/nltk_data...
[nltk_data]    |   Unzipping chunkers/maxent_ne_chunker.zip.
[nltk_data]    | Downloading package punkt to
[nltk_data]    |     /home/researcher/nltk_data...
[nltk_data]    |   Unzipping tokenizers/punkt.zip.
[nltk_data]    | Downloading package book_grammars to
[nltk_data]    |     /home/researcher/nltk_data...
[nltk_data]    |   Unzipping grammars/book_grammars.zip.
[nltk_data]    | Downloading package sample_grammars to
[nltk_data]    |     /home/researcher/nltk_data...
[nltk_data]    |   Unzipping grammars/sample_grammars.zip.
[nltk_data]    | Downloading package spanish_grammars to
[nltk_data]    |     /home/researcher/nltk_data...
[nltk_data]    |   Unzipping grammars/spanish_grammars.zip.
[nltk_data]    | Downloading package basque_grammars to
[nltk_data]    |     /home/researcher/nltk_data...
[nltk_data]    |   Unzipping grammars/basque_grammars.zip.
[nltk_data]    | Downloading package large_grammars to
[nltk_data]    |     /home/researcher/nltk_data...
[nltk_data]    |   Unzipping grammars/large_grammars.zip.
[nltk_data]    | Downloading package tagsets to
[nltk_data]    |     /home/researcher/nltk_data...
[nltk_data]    |   Unzipping help/tagsets.zip.
[nltk_data]    | Downloading package snowball_data to
[nltk_data]    |     /home/researcher/nltk_data...
[nltk_data]    | Downloading package bllip_wsj_no_aux to
[nltk_data]    |     /home/researcher/nltk_data...
[nltk_data]    |   Unzipping models/bllip_wsj_no_aux.zip.
[nltk_data]    | Downloading package word2vec_sample to
[nltk_data]    |     /home/researcher/nltk_data...
[nltk_data]    |   Unzipping models/word2vec_sample.zip.
[nltk_data]    | Downloading package panlex_swadesh to
[nltk_data]    |     /home/researcher/nltk_data...
[nltk_data]    | Downloading package mte_teip5 to
[nltk_data]    |     /home/researcher/nltk_data...
[nltk_data]    |   Unzipping corpora/mte_teip5.zip.
[nltk_data]    | Downloading package averaged_perceptron_tagger to
[nltk_data]    |     /home/researcher/nltk_data...
[nltk_data]    |   Unzipping taggers/averaged_perceptron_tagger.zip.
[nltk_data]    | 
[nltk_data]  Done downloading collection all

Out[2]:

True

In [3]:

from nltk.book import

  File "<ipython-input-3-bd13086a4bce>", line 1
    from nltk.book import
                         ^
SyntaxError: invalid syntax

In [4]:

from nltk.book import *

*** Introductory Examples for the NLTK Book ***
Loading text1, ..., text9 and sent1, ..., sent9
Type the name of the text or sentence to view it.
Type: 'texts()' or 'sents()' to list the materials.
text1: Moby Dick by Herman Melville 1851
text2: Sense and Sensibility by Jane Austen 1811
text3: The Book of Genesis
text4: Inaugural Address Corpus
text5: Chat Corpus
text6: Monty Python and the Holy Grail
text7: Wall Street Journal
text8: Personals Corpus
text9: The Man Who Was Thursday by G . K . Chesterton 1908

In [5]:

text6

Out[5]:

<Text: Monty Python and the Holy Grail>

In [6]:

len(text1)

Out[6]:

260819

In [7]:

len(set(text2))

Out[7]:

6833

In [8]:

sorted(set(text6)) [100:110]

Out[8]:

[u'Are',
 u'Arimathea',
 u'Armaments',
 u'Arthur',
 u'As',
 u'Ask',
 u'Assyria',
 u'At',
 u'Attila',
 u'Augh']

In [9]:

len(text6)/len(set(text6))

Out[9]:

7

In [10]:

text4.count('America')

Out[10]:

192

In [11]:

len(text4)

Out[11]:

145735

In [12]:

len(set(text4))

Out[12]:

9754

In [13]:

100.0* text4.count ('America')/len{text4}

  File "<ipython-input-13-6723051a5600>", line 1
    100.0* text4.count ('America')/len{text4}
                                      ^
SyntaxError: invalid syntax

In [14]:

100.0* text4.count ('America')/len(text4)

Out[14]:

0.13174597728754245

In [15]:

text6.concordance ('knight')

Displaying 25 of 84 matches:
: Man ! ARTHUR : Man . Sorry . What knight live in that castle over there ? DE
rthur music ] [ music stops ] BLACK KNIGHT : Aaagh ! [ King Arthur music ] [ m
rthur music ] [ music stops ] BLACK KNIGHT : Aaagh ! GREEN KNIGHT : Ooh ! [ Ki
tops ] BLACK KNIGHT : Aaagh ! GREEN KNIGHT : Ooh ! [ King Arthur music ] [ mus
ic ] [ music stops ] [ stab ] BLACK KNIGHT : Aagh ! GREEN KNIGHT : Oh ! [ King
 stab ] BLACK KNIGHT : Aagh ! GREEN KNIGHT : Oh ! [ King Arthur music ] Ooh ! 
music ] Ooh ! [ music stops ] BLACK KNIGHT : Aaagh ! [ clang ] BLACK KNIGHT an
CK KNIGHT : Aaagh ! [ clang ] BLACK KNIGHT and GREEN KNIGHT : Agh !, oh !, etc
 ! [ clang ] BLACK KNIGHT and GREEN KNIGHT : Agh !, oh !, etc . GREEN KNIGHT :
N KNIGHT : Agh !, oh !, etc . GREEN KNIGHT : Aaaaaah ! Aaaaaaaaah ! [ woosh ] 
ah ! Aaaaaaaaah ! [ woosh ] [ BLACK KNIGHT kills GREEN KNIGHT ] [ thud ] [ scr
 woosh ] [ BLACK KNIGHT kills GREEN KNIGHT ] [ thud ] [ scrape ] BLACK KNIGHT 
 KNIGHT ] [ thud ] [ scrape ] BLACK KNIGHT : Umm ! [ clop clop clop ] ARTHUR :
with the strength of many men , Sir Knight . [ pause ] I am Arthur , King of t
d . So be it . Come , Patsy . BLACK KNIGHT : None shall pass . ARTHUR : What ?
 shall pass . ARTHUR : What ? BLACK KNIGHT : None shall pass . ARTHUR : I have
have no quarrel with you , good Sir Knight , but I must cross this bridge . BL
ut I must cross this bridge . BLACK KNIGHT : Then you shall die . ARTHUR : I c
he Britons , to stand aside ! BLACK KNIGHT : I move for no man . ARTHUR : So b
RTHUR : So be it ! ARTHUR and BLACK KNIGHT : Aaah !, hiyaah !, etc . [ ARTHUR 
h !, etc . [ ARTHUR chops the BLACK KNIGHT ' s left arm off ] ARTHUR : Now sta
nd aside , worthy adversary . BLACK KNIGHT : ' Tis but a scratch . ARTHUR : A 
 scratch ? Your arm ' s off ! BLACK KNIGHT : No , it isn ' t . ARTHUR : Well ,
: Well , what ' s that then ? BLACK KNIGHT : I ' ve had worse . ARTHUR : You l
d worse . ARTHUR : You liar ! BLACK KNIGHT : Come on , you pansy ! [ clang ] H

In [16]:

text1.similar('knight')

sailors nail mast pier timber

In [17]:

text2.similar('monstrous')

very exceedingly so heartily a great good amazingly as sweet
remarkably extremely vast

In [18]:

text2.common_contexts(['monstrous', 'very'])

a_pretty is_pretty a_lucky am_glad be_glad

In [19]:

text2.common_contexts(['knight','arm'])

(u'The following word(s) were not found:', u'knight arm')

In [20]:

text4.collocations()

United States; fellow citizens; four years; years ago; Federal
Government; General Government; American people; Vice President; Old
World; Almighty God; Fellow citizens; Chief Magistrate; Chief Justice;
God bless; every citizen; Indian tribes; public debt; one another;
foreign nations; political parties

In [21]:

text6.collocations()

BLACK KNIGHT; clop clop; HEAD KNIGHT; mumble mumble; Holy Grail;
squeak squeak; FRENCH GUARD; saw saw; Sir Robin; Run away; CARTOON
CHARACTER; King Arthur; Iesu domine; Pie Iesu; DEAD PERSON; Round
Table; clap clap; OLD MAN; dramatic chord; dona eis

In [22]:

import numpy
%matplotlib inline
text1.dispersion_plot(['whale'])

In [23]:

text1.count('whale')

Out[23]:

906

In [24]:

%matplotlib inline
text1.dispersion_plot(['citizens'])

%matplotlib inline text4.dispersion_plot(['citizens', 'democracy', 'freedom', 'duties', 'America'])
In [25]:

%matplotlib inline
text4.dispersion_plot(['citizens'])

In [27]:

text4.dispersion_plot(['citizens', 'democracy', 'freedom', 'duties', 'America'])

In [28]:

text6.dispersion_plot (['knight', 'dead]'])

In [29]:

text6.dispersion_plot (['knight', 'dead'])

In [30]:

string = 'user'
if string == 'user':
    print 'wonderful!'

wonderful!

In [31]:

def welcome(name):
    print 'Welcome %s' % name

In [32]:

welcome('Robotoverlords')

Welcome Robotoverlords

In [33]:

welcome('robot overlords')

Welcome robot overlords

In [34]:

def magicalthing(len(name)/len(set(name))):
    print 'magicalthing %s' % name

  File "<ipython-input-34-0a9f86051fc3>", line 1
    def magicalthing(len(name)/len(set(name))):
                        ^
SyntaxError: invalid syntax

In [51]:

def lex(text):
    print len(text)/len(set(text))

In [52]:

lex(text6)

7

In [39]:

lexdiversity(text6)

7

In [40]:

sent1 = ['Call', 'me, 'Ishmael','.'']

  File "<ipython-input-40-27d97aac4174>", line 1
    sent1 = ['Call', 'me, 'Ishmael','.'']
                                 ^
SyntaxError: invalid syntax

In [41]:

sent1 = ['Call', 'me, 'Ishmael', '.'] 

  File "<ipython-input-41-f56a2ea739fd>", line 1
    sent1 = ['Call', 'me, 'Ishmael', '.']
                                 ^
SyntaxError: invalid syntax

In [42]:

sent4 + sent1

Out[42]:

['Fellow',
 '-',
 'Citizens',
 'of',
 'the',
 'Senate',
 'and',
 'of',
 'the',
 'House',
 'of',
 'Representatives',
 ':',
 'Call',
 'me',
 'Ishmael',
 '.']

In [43]:

sent.append('Please')
print sent1

---------------------------------------------------------------------------
NameError                                 Traceback (most recent call last)
<ipython-input-43-60b6d54b9102> in <module>()
----> 1 sent.append('Please')
      2 print sent1

NameError: name 'sent' is not defined

In [44]:

sent1.append('Please')
print sent1

['Call', 'me', 'Ishmael', '.', 'Please']

In [45]:

fruits = ['banana', 'apple', 'melon', 'berry']
for fruit in fruits:
    print 'Now slicing and dicing', fruit
print 'Cruise buffet'

Now slicing and dicing banana
Now slicing and dicing apple
Now slicing and dicing melon
Now slicing and dicing berry
Cruise buffet

In [46]:

library = [text1, text2, text3, text4, text5, text6, text7, text8, text9]
for books in library
    print lexdiversity, books

  File "<ipython-input-46-ee67066e8d30>", line 2
    for books in library
                        ^
SyntaxError: invalid syntax

In [47]:

library = [text1, text2, text3, text4, text5, text6, text7, text8, text9]
for books in library
    print lexdiversity(books)

  File "<ipython-input-47-da6899d8d2f7>", line 2
    for books in library
                        ^
SyntaxError: invalid syntax

In [48]:

library = [text1, text2, text3, text4, text5, text6, text7, text8, text9]
for books in library:
    print lexdiversity(books)

13
None
20
None
16
None
14
None
7
None
7
None
8
None
4
None
10
None

In [49]:

library = [text1, text2, text3, text4, text5, text6, text7, text8, text9]
for books in library:
    print lexdiversity(books)

13
None
20
None
16
None
14
None
7
None
7
None
8
None
4
None
10
None

In [55]:

library = [text1, text2, text3, text4, text5, text6, text7, text8, text9]
for books in library:
    print lex(books)

13
None
20
None
16
None
14
None
7
None
7
None
8
None
4
None
10
None

In [56]:

print library

[<Text: Moby Dick by Herman Melville 1851>, <Text: Sense and Sensibility by Jane Austen 1811>, <Text: The Book of Genesis>, <Text: Inaugural Address Corpus>, <Text: Chat Corpus>, <Text: Monty Python and the Holy Grail>, <Text: Wall Street Journal>, <Text: Personals Corpus>, <Text: The Man Who Was Thursday by G . K . Chesterton 1908>]

In [57]:

print lex(text1)

13
None

In [58]:

lex(text6)

7

In [59]:

library = [text1, text2, text3, text4, text5, text6, text7, text8, text9]
for books in library:
    lex(books)

13
20
16
14
7
7
8
4
10

In [60]:

print text4.index('awaken')

173

In [61]:

print text6[12478:12556]

[u'But', u'there', u'is', u'one', u'small', u'problem', u'.', u'ARTHUR', u':', u'What', u'is', u'that', u'?', u'HEAD', u'KNIGHT', u':', u'We', u'are', u'now', u'...', u'no', u'longer', u'the', u'Knights', u'Who', u'Say', u"'", u'Ni', u"'.", u'KNIGHTS', u'OF', u'NI', u':', u'Ni', u'!', u'Shh', u'!', u'HEAD', u'KNIGHT', u':', u'Shh', u'!', u'We', u'are', u'now', u'the', u'Knights', u'Who', u'Say', u"'", u'Ecky', u'-', u'ecky', u'-', u'ecky', u'-', u'ecky', u'-', u'pikang', u'-', u'zoop', u'-', u'boing', u'-', u'goodem', u'-', u'zoo', u'-', u'owli', u'-', u'zhiv', u"'.", u'RANDOM', u':', u'Ni', u'!', u'HEAD', u'KNIGHT']

In [62]:

sent = ['python', 'counts', 'from', 'zero']
print sent [0]
print sent [2]

python
from

In [63]:

list = ['It' 'was' 'a' 'dark' 'and' 'stormy' 'night' ';' 'the' 'rain' 'fell' 'in' 'torrents'] 

In [65]:

sent = ['It' 'was' 'a' 'dark' 'and' 'stormy' 'night' ';' 'the' 'rain' 'fell' 'in' 'torrents'] 
print sent [0:7] 

['Itwasadarkandstormynight;therainfellintorrents']

In [67]:

alphabetise = sent [0:7]

In [68]:

clause = 'it was a dark and stormy night ; the rain fell in torrents'.split()

In [69]:

clause

Out[69]:

['it',
 'was',
 'a',
 'dark',
 'and',
 'stormy',
 'night',
 ';',
 'the',
 'rain',
 'fell',
 'in',
 'torrents']

In [70]:

print clause

['it', 'was', 'a', 'dark', 'and', 'stormy', 'night', ';', 'the', 'rain', 'fell', 'in', 'torrents']

In [73]:

start = clause[0:7]

In [75]:

alphebatised = sorted(start)
print alphebatised

['a', 'and', 'dark', 'it', 'night', 'stormy', 'was']

from nltk.probability import FreqDist

from collections import Counter
In [78]:

fdist1 = FreqDist(text1)

In [79]:

fdist1.most_common(50)

Out[79]:

[(u',', 18713),
 (u'the', 13721),
 (u'.', 6862),
 (u'of', 6536),
 (u'and', 6024),
 (u'a', 4569),
 (u'to', 4542),
 (u';', 4072),
 (u'in', 3916),
 (u'that', 2982),
 (u"'", 2684),
 (u'-', 2552),
 (u'his', 2459),
 (u'it', 2209),
 (u'I', 2124),
 (u's', 1739),
 (u'is', 1695),
 (u'he', 1661),
 (u'with', 1659),
 (u'was', 1632),
 (u'as', 1620),
 (u'"', 1478),
 (u'all', 1462),
 (u'for', 1414),
 (u'this', 1280),
 (u'!', 1269),
 (u'at', 1231),
 (u'by', 1137),
 (u'but', 1113),
 (u'not', 1103),
 (u'--', 1070),
 (u'him', 1058),
 (u'from', 1052),
 (u'be', 1030),
 (u'on', 1005),
 (u'so', 918),
 (u'whale', 906),
 (u'one', 889),
 (u'you', 841),
 (u'had', 767),
 (u'have', 760),
 (u'there', 715),
 (u'But', 705),
 (u'or', 697),
 (u'were', 680),
 (u'now', 646),
 (u'which', 640),
 (u'?', 637),
 (u'me', 627),
 (u'like', 624)]

In [80]:

fdist1['whale']

Out[80]:

906

In [82]:

fdist1.plot(50, cumulative = True)

In [83]:

def common(text):
    print fdist1.most_common(50) in (text)

In [99]:

def commonwords(text):
    return FreqDist(text).most_common(15)

In [103]:

library = [text1, text2, text3, text4, text5, text6, text7, text8, text9]
for text in library:
    print text.name, commonwords(text), '\n'

Moby Dick by Herman Melville 1851 [(u',', 18713), (u'the', 13721), (u'.', 6862), (u'of', 6536), (u'and', 6024), (u'a', 4569), (u'to', 4542), (u';', 4072), (u'in', 3916), (u'that', 2982), (u"'", 2684), (u'-', 2552), (u'his', 2459), (u'it', 2209), (u'I', 2124)] 

Sense and Sensibility by Jane Austen 1811 [(u',', 9397), (u'to', 4063), (u'.', 3975), (u'the', 3861), (u'of', 3565), (u'and', 3350), (u'her', 2436), (u'a', 2043), (u'I', 2004), (u'in', 1904), (u'was', 1846), (u'it', 1568), (u'"', 1506), (u';', 1419), (u'she', 1333)] 

The Book of Genesis [(u',', 3681), (u'and', 2428), (u'the', 2411), (u'of', 1358), (u'.', 1315), (u'And', 1250), (u'his', 651), (u'he', 648), (u'to', 611), (u';', 605), (u'unto', 590), (u'in', 588), (u'that', 509), (u'I', 484), (u'said', 476)] 

Inaugural Address Corpus [(u'the', 9281), (u'of', 6970), (u',', 6840), (u'and', 4991), (u'.', 4676), (u'to', 4311), (u'in', 2527), (u'a', 2134), (u'our', 1905), (u'that', 1688), (u'be', 1460), (u'is', 1403), (u'we', 1141), (u'for', 1075), (u'by', 1036)] 

Chat Corpus [(u'.', 1268), (u'JOIN', 1021), (u'PART', 1016), (u'?', 737), (u'lol', 704), (u'to', 658), (u'i', 648), (u'the', 646), (u'you', 635), (u',', 596), (u'I', 576), (u'a', 568), (u'hi', 546), (u'me', 415), (u'...', 412)] 

Monty Python and the Holy Grail [(u':', 1197), (u'.', 816), (u'!', 801), (u',', 731), (u"'", 421), (u'[', 319), (u']', 312), (u'the', 299), (u'I', 255), (u'ARTHUR', 225), (u'?', 207), (u'you', 204), (u'a', 188), (u'of', 158), (u'--', 148)] 

Wall Street Journal [(u',', 4885), (u'the', 4045), (u'.', 3828), (u'of', 2319), (u'to', 2164), (u'a', 1878), (u'in', 1572), (u'and', 1511), (u'*-1', 1123), (u'0', 1099), (u'*', 965), (u"'s", 864), (u'for', 817), (u'that', 807), (u'*T*-1', 806)] 

Personals Corpus [(u',', 539), (u'.', 353), (u'/', 110), (u'for', 99), (u'to', 74), (u'and', 74), (u'lady', 68), (u'-', 66), (u'seeks', 60), (u'a', 52), (u'with', 44), (u'S', 36), (u'ship', 33), (u'&', 30), (u'relationship', 29)] 

The Man Who Was Thursday by G . K . Chesterton 1908 [(u',', 3488), (u'the', 3291), (u'.', 2717), (u'a', 1713), (u'of', 1710), (u'and', 1568), (u'"', 1336), (u'to', 1045), (u'in', 888), (u'I', 885), (u'he', 858), (u'that', 841), (u'his', 765), (u'was', 716), (u'you', 580)] 

In [89]:

print commonwords

<function commonwords at 0x12911320>

In [93]:

commonwords(text1)

In [94]:

print commonwords(text1)

None

In [95]:

print library

[<Text: Moby Dick by Herman Melville 1851>, <Text: Sense and Sensibility by Jane Austen 1811>, <Text: The Book of Genesis>, <Text: Inaugural Address Corpus>, <Text: Chat Corpus>, <Text: Monty Python and the Holy Grail>, <Text: Wall Street Journal>, <Text: Personals Corpus>, <Text: The Man Who Was Thursday by G . K . Chesterton 1908>]

In [96]:

print books

<Text: The Man Who Was Thursday by G . K . Chesterton 1908>

In [104]:

for text in library:
    print text.name, commonwords(text), '\n'

Moby Dick by Herman Melville 1851 [(u',', 18713), (u'the', 13721), (u'.', 6862), (u'of', 6536), (u'and', 6024), (u'a', 4569), (u'to', 4542), (u';', 4072), (u'in', 3916), (u'that', 2982), (u"'", 2684), (u'-', 2552), (u'his', 2459), (u'it', 2209), (u'I', 2124)] 

Sense and Sensibility by Jane Austen 1811 [(u',', 9397), (u'to', 4063), (u'.', 3975), (u'the', 3861), (u'of', 3565), (u'and', 3350), (u'her', 2436), (u'a', 2043), (u'I', 2004), (u'in', 1904), (u'was', 1846), (u'it', 1568), (u'"', 1506), (u';', 1419), (u'she', 1333)] 

The Book of Genesis [(u',', 3681), (u'and', 2428), (u'the', 2411), (u'of', 1358), (u'.', 1315), (u'And', 1250), (u'his', 651), (u'he', 648), (u'to', 611), (u';', 605), (u'unto', 590), (u'in', 588), (u'that', 509), (u'I', 484), (u'said', 476)] 

Inaugural Address Corpus [(u'the', 9281), (u'of', 6970), (u',', 6840), (u'and', 4991), (u'.', 4676), (u'to', 4311), (u'in', 2527), (u'a', 2134), (u'our', 1905), (u'that', 1688), (u'be', 1460), (u'is', 1403), (u'we', 1141), (u'for', 1075), (u'by', 1036)] 

Chat Corpus [(u'.', 1268), (u'JOIN', 1021), (u'PART', 1016), (u'?', 737), (u'lol', 704), (u'to', 658), (u'i', 648), (u'the', 646), (u'you', 635), (u',', 596), (u'I', 576), (u'a', 568), (u'hi', 546), (u'me', 415), (u'...', 412)] 

Monty Python and the Holy Grail [(u':', 1197), (u'.', 816), (u'!', 801), (u',', 731), (u"'", 421), (u'[', 319), (u']', 312), (u'the', 299), (u'I', 255), (u'ARTHUR', 225), (u'?', 207), (u'you', 204), (u'a', 188), (u'of', 158), (u'--', 148)] 

Wall Street Journal [(u',', 4885), (u'the', 4045), (u'.', 3828), (u'of', 2319), (u'to', 2164), (u'a', 1878), (u'in', 1572), (u'and', 1511), (u'*-1', 1123), (u'0', 1099), (u'*', 965), (u"'s", 864), (u'for', 817), (u'that', 807), (u'*T*-1', 806)] 

Personals Corpus [(u',', 539), (u'.', 353), (u'/', 110), (u'for', 99), (u'to', 74), (u'and', 74), (u'lady', 68), (u'-', 66), (u'seeks', 60), (u'a', 52), (u'with', 44), (u'S', 36), (u'ship', 33), (u'&', 30), (u'relationship', 29)] 

The Man Who Was Thursday by G . K . Chesterton 1908 [(u',', 3488), (u'the', 3291), (u'.', 2717), (u'a', 1713), (u'of', 1710), (u'and', 1568), (u'"', 1336), (u'to', 1045), (u'in', 888), (u'I', 885), (u'he', 858), (u'that', 841), (u'his', 765), (u'was', 716), (u'you', 580)] 

In [109]:

vocab = set(text4)
long_words = [word for word in vocab if len(word) > 15]
sorted(long_words)

Out[109]:

[u'RESPONSIBILITIES',
 u'antiphilosophists',
 u'constitutionally',
 u'contradistinction',
 u'discountenancing',
 u'disqualification',
 u'enthusiastically',
 u'instrumentalities',
 u'internationality',
 u'irresponsibility',
 u'misappropriation',
 u'misrepresentation',
 u'misunderstanding',
 u'responsibilities',
 u'sentimentalizing',
 u'transcontinental',
 u'uncharitableness',
 u'unconstitutional']

In [110]:

vocab = set(text6)
long_words = [word for word in vocab if len(word) > 10]
sorted(long_words)

Out[110]:

[u'Auuuuuuuugh',
 u'BRIDGEKEEPER',
 u'Camaaaaaargue',
 u'Dramatically',
 u'Oooohoohohooo',
 u'Shrubberies',
 u'Unfortunately',
 u'accompanied',
 u'accomplished',
 u'approacheth',
 u'approaching',
 u'automatically',
 u'auuuuuuuugh',
 u'bridgekeeper',
 u'conclusions',
 u'considerable',
 u'dictatorship',
 u'differences',
 u'disheartened',
 u'distributing',
 u'earthquakes',
 u'elderberries',
 u'hospitality',
 u'illegitimate',
 u'illustrious',
 u'immediately',
 u'imperialist',
 u'impersonate',
 u'indefatigable',
 u'individually',
 u'influential',
 u'intermission',
 u'nnnnniggets',
 u'particularly',
 u'performance',
 u'perpetuates',
 u'perpetuating',
 u'regulations',
 u'shrubberies',
 u'suspenseful',
 u'syndicalism',
 u'syndicalist',
 u'understanding',
 u'varletesses',
 u'voluntarily']

In [111]:

sent1

Out[111]:

['Call', 'me', 'Ishmael', '.', 'Please']

In [112]:

sent3

Out[112]:

['In',
 'the',
 'beginning',
 'God',
 'created',
 'the',
 'heaven',
 'and',
 'the',
 'earth',
 '.']

In [113]:

sent6

Out[113]:

['SCENE',
 '1',
 ':',
 '[',
 'wind',
 ']',
 '[',
 'clop',
 'clop',
 'clop',
 ']',
 'KING',
 'ARTHUR',
 ':',
 'Whoa',
 'there',
 '!']

In [114]:

vocab = set(text6)
long_words = [word for word in vocab if len(word) > 4]
sorted(long_words)

Out[114]:

[u'--...',
 u'AMAZING',
 u'ANIMATOR',
 u'ARTHUR',
 u'Aaaaaaaaah',
 u'Aaaaaaaah',
 u'Aaaaaah',
 u'Aaaah',
 u'Aaaaugh',
 u'Aaagh',
 u'Aaauggh',
 u'Aaaugh',
 u'Aaauugh',
 u'Aauuggghhh',
 u'Aauuugh',
 u'Aauuuuugh',
 u'Aauuuves',
 u'Action',
 u'Actually',
 u'African',
 u'Alice',
 u'Almighty',
 u'Alright',
 u'Anarcho',
 u'Angnor',
 u'Anthrax',
 u'Antioch',
 u'Anybody',
 u'Anyway',
 u'Apples',
 u'Aramaic',
 u'Arimathea',
 u'Armaments',
 u'Arthur',
 u'Assyria',
 u'Attila',
 u'Autumn',
 u'Auuuuuuuugh',
 u'BEDEVERE',
 u'BLACK',
 u'BRIDE',
 u'BRIDGEKEEPER',
 u'BROTHER',
 u'Badon',
 u'Battle',
 u'Beast',
 u'Bedevere',
 u'Bedwere',
 u'Behold',
 u'Between',
 u'Beyond',
 u'Black',
 u'Bloody',
 u'Bones',
 u'Brave',
 u'Bravely',
 u'Bravest',
 u'Bread',
 u'Bridge',
 u'Bring',
 u'Bristol',
 u'Britain',
 u'Britons',
 u'Brother',
 u'Build',
 u'CAMERAMAN',
 u'CARTOON',
 u'CHARACTER',
 u'CHARACTERS',
 u'CONCORDE',
 u'CRAPPER',
 u'CRASH',
 u'CRONE',
 u'CROWD',
 u'CUSTOMER',
 u'Caerbannog',
 u'Camaaaaaargue',
 u'Camelot',
 u'Castle',
 u'Chapter',
 u'Charge',
 u'Chaste',
 u'Cherries',
 u'Chicken',
 u'Chickennn',
 u'Christ',
 u'Churches',
 u'Cider',
 u'Clark',
 u'Clear',
 u'Concorde',
 u'Consult',
 u'Cornwall',
 u'Could',
 u'Course',
 u'Court',
 u'Crapper',
 u'DENNIS',
 u'DINGO',
 u'DIRECTOR',
 u'Dappy',
 u'Death',
 u'Defeat',
 u'Dennis',
 u'Dingo',
 u'Divine',
 u'Doctor',
 u'Dragon',
 u'Dramatically',
 u'ENCHANTER',
 u'Ector',
 u'Enchanter',
 u'England',
 u'English',
 u'Erbert',
 u'Eternal',
 u'European',
 u'Every',
 u'Everything',
 u'Ewing',
 u'Exactly',
 u'Excalibur',
 u'Excuse',
 u'Explain',
 u'FATHER',
 u'FRENCH',
 u'Farewell',
 u'Father',
 u'Fetchez',
 u'Fiends',
 u'First',
 u'Firstly',
 u'Follow',
 u'Forgive',
 u'Forward',
 u'Found',
 u'France',
 u'Frank',
 u'French',
 u'GALAHAD',
 u'GIRLS',
 u'GREEN',
 u'GUARD',
 u'GUARDS',
 u'GUEST',
 u'GUESTS',
 u'Gable',
 u'Galahad',
 u'Gallahad',
 u'Gawain',
 u'Gorge',
 u'Grail',
 u'Great',
 u'Greetings',
 u'Grenade',
 u'Guards',
 u'HEADS',
 u'HERBERT',
 u'HISTORIAN',
 u'Hallo',
 u'Hello',
 u'Herbert',
 u'Himself',
 u'Hiyaah',
 u'Hiyah',
 u'Hiyya',
 u'Honestly',
 u'Hooray',
 u'Hurry',
 u'Huyah',
 u'INSPECTOR',
 u'Idiom',
 u'Iiiiives',
 u'Iiiives',
 u'Jesus',
 u'Joseph',
 u'KNIGHT',
 u'KNIGHTS',
 u'Knight',
 u'Knights',
 u'LAUNCELOT',
 u'LOVELY',
 u'LUCKY',
 u'Lancelot',
 u'Launcelot',
 u'Leaving',
 u'Listen',
 u'Loimbard',
 u'Looks',
 u'Lucky',
 u'MASTER',
 u'MAYNARD',
 u'MIDDLE',
 u'MIDGET',
 u'MINSTREL',
 u'MONKS',
 u'Maynard',
 u'Meanwhile',
 u'Mercea',
 u'Message',
 u'Midget',
 u'Monsieur',
 u'Morning',
 u'Mother',
 u'NARRATOR',
 u'Nador',
 u'Never',
 u'Ninepence',
 u'Nothing',
 u'OFFICER',
 u'OTHER',
 u'Olfin',
 u'Oooohoohohooo',
 u'Oooooooh',
 u'Order',
 u'Other',
 u'PARTY',
 u'PATSY',
 u'PERSON',
 u'PIGLET',
 u'PRINCE',
 u'PRINCESS',
 u'PRISONER',
 u'Packing',
 u'Patsy',
 u'Pendragon',
 u'Perhaps',
 u'Peril',
 u'Picture',
 u'Piglet',
 u'Please',
 u'Practice',
 u'Prepare',
 u'Prince',
 u'Princess',
 u'Providence',
 u'Psalms',
 u'Quick',
 u'Quickly',
 u'Quiet',
 u'Quite',
 u'RANDOM',
 u'RIGHT',
 u'ROBIN',
 u'ROGER',
 u'Rather',
 u'Really',
 u'Recently',
 u'Remove',
 u'Rheged',
 u'Ridden',
 u'Right',
 u'Riiight',
 u'Robin',
 u'Robinson',
 u'Roger',
 u'Round',
 u'Running',
 u'SCENE',
 u'SECOND',
 u'SENTRY',
 u'SHRUBBER',
 u'SOLDIER',
 u'STUNNER',
 u'Saint',
 u'Saxons',
 u'Schools',
 u'Shall',
 u'Shrubber',
 u'Shrubberies',
 u'Silence',
 u'Silly',
 u'Since',
 u'Sorry',
 u'Speak',
 u'Splendid',
 u'Spring',
 u'Stand',
 u'Steady',
 u'Summer',
 u'Supposing',
 u'Supreme',
 u'Surely',
 u'Swamp',
 u'Table',
 u'Thank',
 u'There',
 u'Therefore',
 u'Those',
 u'Thpppppt',
 u'Thppppt',
 u'Thpppt',
 u'Thppt',
 u'Three',
 u'Throw',
 u'Thsss',
 u'Thursday',
 u'Today',
 u'Together',
 u'Torment',
 u'Tower',
 u'Twenty',
 u'Unfortunately',
 u'Until',
 u'Uther',
 u'VILLAGER',
 u'VILLAGERS',
 u'VOICE',
 u'Victory',
 u'WINSTON',
 u'WITCH',
 u'WOMAN',
 u'Welcome',
 u'Where',
 u'Which',
 u'Winston',
 u'Winter',
 u'Would',
 u'Yapping',
 u'Yeaaah',
 u'Yeaah',
 u'aaaaaah',
 u'aaaah',
 u'aaggggh',
 u'aaugh',
 u'about',
 u'absolutely',
 u'accent',
 u'accompanied',
 u'accomplished',
 u'acting',
 u'actually',
 u'advancing',
 u'adversary',
 u'affairs',
 u'afoot',
 u'afraid',
 u'after',
 u'again',
 u'against',
 u'agree',
 u'alarm',
 u'alight',
 u'alive',
 u'allowed',
 u'almost',
 u'aloft',
 u'along',
 u'already',
 u'although',
 u'always',
 u'amazes',
 u'anarcho',
 u'anchovies',
 u'angels',
 u'anging',
 u'animal',
 u'animator',
 u'another',
 u'answer',
 u'answers',
 u'anyone',
 u'anything',
 u'anyway',
 u'anywhere',
 u'apart',
 u'apologise',
 u'appearing',
 u'appease',
 u'approacheth',
 u'approaching',
 u'aptly',
 u'aquatic',
 u'argue',
 u'armed',
 u'armor',
 u'around',
 u'arrange',
 u'arrows',
 u'aside',
 u'asking',
 u'assault',
 u'assist',
 u'attack',
 u'attend',
 u'auntie',
 u'aunties',
 u'autocracy',
 u'automatically',
 u'autonomous',
 u'auuuuuuuugh',
 u'avenged',
 u'averting',
 u'awaaaaay',
 u'awaaay',
 u'awaits',
 u'awfully',
 u'awhile',
 u'baaaa',
 u'badger',
 u'banana',
 u'bangin',
 u'basic',
 u'basis',
 u'bastard',
 u'bastards',
 u'bathing',
 u'beacon',
 u'beautiful',
 u'became',
 u'because',
 u'become',
 u'behaviour',
 u'behind',
 u'behold',
 u'being',
 u'bells',
 u'beside',
 u'better',
 u'between',
 u'beyond',
 u'bicker',
 u'biggest',
 u'binding',
 u'birds',
 u'biscuits',
 u'bitching',
 u'biters',
 u'bladders',
 u'blanket',
 u'bleed',
 u'bleeder',
 u'bless',
 u'blessing',
 u'blondes',
 u'blood',
 u'bloody',
 u'boing',
 u'bones',
 u'bosom',
 u'bother',
 u'bottom',
 u'bottoms',
 u'bowels',
 u'brain',
 u'brained',
 u'brave',
 u'bravely',
 u'bravest',
 u'breadth',
 u'breakfast',
 u'breath',
 u'bride',
 u'bridge',
 u'bridgekeeper',
 u'bridges',
 u'bring',
 u'bringing',
 u'broken',
 u'brought',
 u'brunettes',
 u'brush',
 u'bugger',
 u'buggered',
 u'buggering',
 u'build',
 u'built',
 u'bunny',
 u'burned',
 u'burst',
 u'business',
 u'cadeau',
 u'called',
 u'cannot',
 u'capital',
 u'carried',
 u'carries',
 u'carry',
 u'carrying',
 u'cartoon',
 u'carve',
 u'carved',
 u'carving',
 u'castanets',
 u'castle',
 u'cause',
 u'centuries',
 u'cereals',
 u'ceremony',
 u'certain',
 u'certainly',
 u'chance',
 u'change',
 u'changed',
 u'chanting',
 u'charged',
 u'chastity',
 u'cheesy',
 u'chest',
 u'chickened',
 u'chickening',
 u'chops',
 u'chord',
 u'chorus',
 u'chosen',
 u'clack',
 u'clang',
 u'clank',
 u'class',
 u'classes',
 u'clear',
 u'clever',
 u'climes',
 u'clllank',
 u'closest',
 u'clunk',
 u'coconut',
 u'coconuts',
 u'collective',
 u'color',
 u'comin',
 u'coming',
 u'command',
 u'commands',
 u'committed',
 u'commune',
 u'compared',
 u'completely',
 u'conclusion',
 u'conclusions',
 u'confuse',
 u'considerable',
 u'consulted',
 u'continue',
 u'convinced',
 u'cough',
 u'could',
 u'couldn',
 u'count',
 u'counting',
 u'country',
 u'couple',
 u'courage',
 u'course',
 u'court',
 u'cover',
 u'covered',
 u'crash',
 u'creak',
 u'creature',
 u'creep',
 u'creeper',
 u'crone',
 u'cross',
 u'crossed',
 u'cruel',
 u'crying',
 u'curtains',
 u'dance',
 u'dancing',
 u'danger',
 u'dangerous',
 u'dappy',
 u'daring',
 u'daughter',
 u'death',
 u'decided',
 u'decision',
 u'deeds',
 u'defeat',
 u'defeator',
 u'delirious',
 u'demand',
 u'depart',
 u'depressing',
 u'derives',
 u'design',
 u'diaphragm',
 u'dictating',
 u'dictatorship',
 u'differences',
 u'direction',
 u'dirty',
 u'discovered',
 u'discovers',
 u'disheartened',
 u'distress',
 u'distributing',
 u'doctors',
 u'doesn',
 u'dogma',
 u'doing',
 u'domine',
 u'donaeis',
 u'donkey',
 u'doors',
 u'dorsal',
 u'doubt',
 u'dragging',
 u'dramatic',
 u'dress',
 u'dressed',
 u'dresser',
 u'dressing',
 u'drilllll',
 u'drink',
 u'dungeon',
 u'dunno',
 u'dying',
 u'dynamite',
 u'earth',
 u'earthquakes',
 u'easily',
 u'eccentric',
 u'economic',
 u'effect',
 u'eight',
 u'eisrequiem',
 u'either',
 u'elbows',
 u'elderberries',
 u'electric',
 u'emperor',
 u'employed',
 u'empty',
 u'enchanter',
 u'enemies',
 u'enjoying',
 u'enough',
 u'enter',
 u'entered',
 u'entering',
 u'entrance',
 u'escape',
 u'ethereal',
 u'every',
 u'everyone',
 u'everything',
 u'examine',
 u'example',
 u'excepting',
 u'exciting',
 u'excuse',
 u'executive',
 u'expect',
 u'expensive',
 u'explain',
 u'exploiting',
 u'faced',
 u'fallen',
 u'false',
 u'farcical',
 u'fatal',
 u'father',
 u'favor',
 u'favorite',
 u'feast',
 u'feathers',
 u'feint',
 u'fellows',
 u'ferocity',
 u'fifty',
 u'fight',
 u'filth',
 u'finds',
 u'finest',
 u'first',
 u'flesh',
 u'flight',
 u'flights',
 u'flint',
 u'floats',
 u'follow',
 u'fooling',
 u'footwork',
 u'force',
 u'forced',
 u'forest',
 u'forget',
 u'forgive',
 u'formed',
 u'formidable',
 u'forth',
 u'fortune',
 u'forty',
 u'forward',
 u'fought',
 u'found',
 u'fourth',
 u'freedom',
 u'friend',
 u'frighten',
 u'frontal',
 u'frozen',
 u'fruit',
 u'further',
 u'fwump',
 u'gained',
 u'gallantly',
 u'general',
 u'gentle',
 u'getting',
 u'giggle',
 u'given',
 u'glass',
 u'glory',
 u'going',
 u'gonna',
 u'goodem',
 u'gouged',
 u'government',
 u'grail',
 u'gravy',
 u'great',
 u'grenade',
 u'grips',
 u'grovel',
 u'groveling',
 u'guard',
 u'guarded',
 u'guards',
 u'guest',
 u'guests',
 u'guided',
 u'guiding',
 u'gurgle',
 u'hacked',
 u'halves',
 u'hamster',
 u'handed',
 u'handle',
 u'handsome',
 u'happens',
 u'happy',
 u'harmless',
 u'haste',
 u'haven',
 u'havin',
 u'having',
 u'headed',
 u'headoff',
 u'heads',
 u'heard',
 u'heart',
 u'hello',
 u'helpful',
 u'heroic',
 u'herring',
 u'hidden',
 u'higher',
 u'hills',
 u'himself',
 u'history',
 u'hiyaah',
 u'honored',
 u'hopeless',
 u'horrendous',
 u'horse',
 u'hospital',
 u'hospitality',
 u'house',
 u'humble',
 u'hundred',
 u'identical',
 u'idiom',
 u'ignore',
 u'illegitimate',
 u'illustrious',
 u'immediately',
 u'impeccable',
 u'imperialist',
 u'impersonate',
 u'imprisoned',
 u'indeed',
 u'indefatigable',
 u'individually',
 u'inferior',
 u'influential',
 u'inherent',
 u'inside',
 u'interested',
 u'intermission',
 u'internal',
 u'invincible',
 u'islands',
 u'jokes',
 u'joyful',
 u'keeper',
 u'keepers',
 u'kicked',
 u'killed',
 u'killer',
 u'kills',
 u'kingdom',
 u'kings',
 u'kneecaps',
 u'kneeling',
 u'knees',
 u'knight',
 u'knights',
 u'knock',
 u'knocked',
 u'known',
 u'knows',
 u'laden',
 u'ladies',
 u'lambs',
 u'language',
 u'lapin',
 u'large',
 u'largest',
 u'later',
 u'laughing',
 u'laurels',
 u'leads',
 u'leaps',
 u'learning',
 u'least',
 u'leave',
 u'legally',
 u'legendary',
 u'length',
 u'level',
 u'liege',
 u'limbs',
 u'listen',
 u'little',
 u'lived',
 u'liver',
 u'lives',
 u'living',
 u'lobbed',
 u'lobbest',
 u'logically',
 u'lonely',
 u'longer',
 u'looked',
 u'looking',
 u'looks',
 u'looney',
 u'lovely',
 u'lucky',
 u'lunged',
 u'lying',
 u'magne',
 u'maintain',
 u'major',
 u'majority',
 u'makes',
 u'making',
 u'mandate',
 u'mangled',
 u'mangy',
 u'manner',
 u'married',
 u'marry',
 u'marrying',
 u'martin',
 u'mashed',
 u'masses',
 u'master',
 u'matter',
 u'maybe',
 u'mayest',
 u'mayhem',
 u'meant',
 u'medical',
 u'medieval',
 u'meeting',
 u'mercy',
 u'merger',
 u'middle',
 u'might',
 u'mightiest',
 u'migrate',
 u'migratory',
 u'minstrels',
 u'minute',
 u'minutes',
 u'miserable',
 u'mistake',
 u'model',
 u'moistened',
 u'moment',
 u'mooooooo',
 u'mortally',
 u'mother',
 u'mount',
 u'mumble',
 u'music',
 u'mystic',
 u'named',
 u'names',
 u'nasty',
 u'naughty',
 u'nearer',
 u'nearly',
 u'necessary',
 u'needs',
 u'nervous',
 u'never',
 u'nibble',
 u'niggets',
 u'night',
 u'nightfall',
 u'ninepence',
 u'nineteen',
 u'nnniggets',
 u'nnnnniggets',
 u'nobody',
 u'noise',
 u'north',
 u'nostrils',
 u'nothing',
 u'number',
 u'object',
 u'obviously',
 u'occasion',
 u'offensive',
 u'officer',
 u'opening',
 u'opera',
 u'orangutans',
 u'order',
 u'ordinary',
 u'other',
 u'ounce',
 u'outdated',
 u'outdoors',
 u'outrageous',
 u'outside',
 u'outwit',
 u'packing',
 u'pansy',
 u'particular',
 u'particularly',
 u'parts',
 u'passed',
 u'passing',
 u'pause',
 u'peasant',
 u'penalty',
 u'people',
 u'performance',
 u'peril',
 u'perilous',
 u'period',
 u'perpetuates',
 u'perpetuating',
 u'person',
 u'personally',
 u'persons',
 u'pestilence',
 u'pikang',
 u'pimples',
 u'pissing',
 u'pitched',
 u'place',
 u'plain',
 u'please',
 u'plover',
 u'point',
 u'pointy',
 u'police',
 u'ponds',
 u'pound',
 u'pounds',
 u'power',
 u'praised',
 u'presence',
 u'present',
 u'preserving',
 u'prevent',
 u'previous',
 u'private',
 u'problem',
 u'problems',
 u'proceed',
 u'profane',
 u'progress',
 u'properly',
 u'protect',
 u'proved',
 u'punishment',
 u'purely',
 u'purest',
 u'purpose',
 u'pussy',
 u'pweeng',
 u'quack',
 u'quarrel',
 u'quest',
 u'question',
 u'questions',
 u'quests',
 u'quick',
 u'quiet',
 u'quite',
 u'rabbit',
 u'radio',
 ...]

In [115]:

vocab = set(text4)
exactly_four = [word for word in vocab if len(word) == 4]
sorted(exactly_four)

Out[115]:

[u'....',
 u'14th',
 u'15th',
 u'1774',
 u'1776',
 u'1778',
 u'1780',
 u'1787',
 u'1789',
 u'1790',
 u'1800',
 u'1801',
 u'1812',
 u'1815',
 u'1816',
 u'1817',
 u'1818',
 u'1826',
 u'1850',
 u'1861',
 u'1868',
 u'1873',
 u'1880',
 u'1886',
 u'1890',
 u'1893',
 u'1896',
 u'1897',
 u'1898',
 u'1899',
 u'18th',
 u'1907',
 u'1917',
 u'1933',
 u'1941',
 u'1945',
 u'1963',
 u'1972',
 u'1980',
 u'1984',
 u'19th',
 u'20th',
 u'21st',
 u'30th',
 u'50th',
 u'AIDS',
 u'Amen',
 u'Amid',
 u'Army',
 u'Asia',
 u'Bell',
 u'Bill',
 u'Both',
 u'Bush',
 u'Cape',
 u'Care',
 u'Chop',
 u'Clay',
 u'Cold',
 u'Cook',
 u'Cuba',
 u'Dark',
 u'Does',
 u'Dole',
 u'Each',
 u'East',
 u'Envy',
 u'Even',
 u'Ever',
 u'FROM',
 u'Fort',
 u'Four',
 u'From',
 u'Gaul',
 u'Give',
 u'Good',
 u'Gore',
 u'Gulf',
 u'Half',
 u'Hall',
 u'Hand',
 u'Hard',
 u'Have',
 u'Help',
 u'Here',
 u'High',
 u'Hill',
 u'Holy',
 u'Hope',
 u'Horn',
 u'Idle',
 u'Indo',
 u'Iowa',
 u'Iraq',
 u'Jews',
 u'Jima',
 u'John',
 u'July',
 u'Just',
 u'King',
 u'Laws',
 u'Less',
 u'Like',
 u'Long',
 u'Look',
 u'Lord',
 u'Love',
 u'Make',
 u'Mall',
 u'Many',
 u'Mars',
 u'Mill',
 u'Mind',
 u'Miss',
 u'Moon',
 u'More',
 u'Most',
 u'Much',
 u'Must',
 u'Navy',
 u'Next',
 u'None',
 u'Ohio',
 u'Once',
 u'Only',
 u'Ours',
 u'Over',
 u'Page',
 u'Pool',
 u'Pork',
 u'Race',
 u'Rico',
 u'Rome',
 u'Root',
 u'Rule',
 u'Sahn',
 u'Self',
 u'Some',
 u'Such',
 u'THIS',
 u'Take',
 u'That',
 u'Then',
 u'They',
 u'This',
 u'Thou',
 u'Thus',
 u'Time',
 u'True',
 u'Upon',
 u'Vice',
 u'Wars',
 u'Well',
 u'West',
 u'What',
 u'When',
 u'Will',
 u'Wise',
 u'With',
 u'Wood',
 u'Writ',
 u'Xand',
 u'Xthe',
 u'York',
 u'Your',
 u'able',
 u'ably',
 u'acts',
 u'adds',
 u'afte',
 u'aged',
 u'ages',
 u'aids',
 u'aims',
 u'ally',
 u'also',
 u'amid',
 u'anew',
 u'ants',
 u'area',
 u'arid',
 u'arms',
 u'army',
 u'arts',
 u'asks',
 u'atom',
 u'aver',
 u'avow',
 u'away',
 u'back',
 u'balk',
 u'balm',
 u'band',
 u'bane',
 u'bank',
 u'bare',
 u'base',
 u'basi',
 u'bays',
 u'bear',
 u'been',
 u'bend',
 u'best',
 u'bill',
 u'bind',
 u'bled',
 u'blot',
 u'blow',
 u'blue',
 u'boat',
 u'body',
 u'bold',
 u'bona',
 u'bond',
 u'book',
 u'bore',
 u'born',
 u'both',
 u'bred',
 u'bulk',
 u'busy',
 u'call',
 u'calm',
 u'came',
 u'camp',
 u'care',
 u'cars',
 u'case',
 u'cash',
 u'cast',
 u'city',
 u'clad',
 u'coal',
 u'code',
 u'coin',
 u'cold',
 u'come',
 u'cool',
 u'cope',
 u'core',
 u'corn',
 u'cost',
 u'curb',
 u'cure',
 u'cuts',
 u'dams',
 u'dare',
 u'dark',
 u'data',
 u'date',
 u'dawn',
 u'days',
 u'dead',
 u'deaf',
 u'deal',
 u'dear',
 u'debt',
 u'deed',
 u'deem',
 u'deep',
 u'defy',
 u'deny',
 u'didn',
 u'died',
 u'dies',
 u'dire',
 u'dock',
 u'does',
 u'dogs',
 u'done',
 u'door',
 u'doth',
 u'down',
 u'draw',
 u'drop',
 u'duly',
 u'dust',
 u'duty',
 u'each',
 u'earn',
 u'ears',
 u'ease',
 u'east',
 u'easy',
 u'echo',
 u'edge',
 u'else',
 u'ends',
 u'envy',
 u'even',
 u'ever',
 u'evil',
 u'eyes',
 u'face',
 u'fact',
 u'fade',
 u'fail',
 u'fair',
 u'fall',
 u'fame',
 u'fans',
 u'fare',
 u'farm',
 u'fast',
 u'fate',
 u'fear',
 u'feed',
 u'feel',
 u'feet',
 u'fell',
 u'felt',
 u'fiat',
 u'fide',
 u'fill',
 u'find',
 u'fine',
 u'fire',
 u'firm',
 u'fish',
 u'fist',
 u'five',
 u'flag',
 u'fled',
 u'flew',
 u'flow',
 u'foes',
 u'fold',
 u'food',
 u'form',
 u'four',
 u'free',
 u'from',
 u'fuel',
 u'full',
 u'fund',
 u'fury',
 u'gain',
 u'gave',
 u'gaze',
 u'gets',
 u'gift',
 u'girl',
 u'give',
 u'glad',
 u'glow',
 u'glut',
 u'goad',
 u'goal',
 u'goes',
 u'gold',
 u'gone',
 u'good',
 u'gray',
 u'grim',
 u'grip',
 u'grow',
 u'guns',
 u'hadn',
 u'half',
 u'halt',
 u'hand',
 u'hang',
 u'hard',
 u'harm',
 u'hate',
 u'hath',
 u'have',
 u'head',
 u'heal',
 u'hear',
 u'heat',
 u'heed',
 u'held',
 u'help',
 u'here',
 u'hero',
 u'high',
 u'hold',
 u'home',
 u'hope',
 u'host',
 u'hour',
 u'hurt',
 u'huts',
 u'idea',
 u'idle',
 u'ills',
 u'into',
 u'iron',
 u'isle',
 u'jars',
 u'jobs',
 u'join',
 u'just',
 u'keen',
 u'keep',
 u'kept',
 u'kill',
 u'kind',
 u'king',
 u'kite',
 u'knew',
 u'knit',
 u'know',
 u'lack',
 u'laid',
 u'land',
 u'lash',
 u'last',
 u'late',
 u'laws',
 u'lead',
 u'left',
 u'lend',
 u'less',
 u'lest',
 u'levy',
 u'lies',
 u'lieu',
 u'life',
 u'lift',
 u'like',
 u'limb',
 u'line',
 u'link',
 u'list',
 u'live',
 u'lock',
 u'lone',
 u'long',
 u'look',
 u'lose',
 u'loss',
 u'lost',
 u'love',
 u'lure',
 u'lurk',
 u'made',
 u'mail',
 u'main',
 u'make',
 u'mall',
 u'many',
 u'maps',
 u'mark',
 u'mass',
 u'mean',
 u'meet',
 u'mere',
 u'mild',
 u'mill',
 u'mind',
 u'mine',
 u'mobs',
 u'mode',
 u'moon',
 u'more',
 u'most',
 u'move',
 u'much',
 u'must',
 u'name',
 u'navy',
 u'near',
 u'neck',
 u'need',
 u'news',
 u'next',
 u'nigh',
 u'none',
 u'note',
 u'oath',
 u'obey',
 u'odds',
 u'omen',
 u'omit',
 u'once',
 u'ones',
 u'only',
 u'onto',
 u'open',
 u'ores',
 u'ours',
 u'over',
 u'owes',
 u'pace',
 u'pack',
 u'pact',
 u'page',
 u'paid',
 u'pain',
 u'pall',
 u'part',
 u'pass',
 u'past',
 u'path',
 u'pave',
 u'pays',
 u'pick',
 u'pile',
 u'pity',
 u'plan',
 u'play',
 u'poet',
 u'pool',
 u'poor',
 u'pope',
 u'post',
 u'pray',
 u'pres',
 u'prey',
 u'prop',
 u'pure',
 u'push',
 u'puts',
 u'race',
 u'rage',
 u'rail',
 u'rang',
 u'rank',
 u'rare',
 u'rash',
 u'rate',
 u'rays',
 u'read',
 u'real',
 u'reap',
 u'rear',
 u'rely',
 u'rend',
 u'rest',
 u'rice',
 u'rich',
 u'ride',
 u'rise',
 u'risk',
 u'road',
 u'robe',
 u'robs',
 u'rock',
 u'rode',
 u'role',
 u'roll',
 u'room',
 u'root',
 u'rose',
 u'rude',
 u'ruin',
 u'rule',
 u'runs',
 u'rush',
 u'safe',
 u'said',
 u'sake',
 u'sale',
 u'same',
 u'sane',
 u'saps',
 u'save',
 u'says',
 u'scan',
 u'scar',
 u'seal',
 u'seas',
 u'seat',
 u'sect',
 u'seed',
 u'seek',
 u'seem',
 u'seen',
 u'sees',
 u'self',
 u'sell',
 u'send',
 u'sets',
 u'shed',
 u'ship',
 u'shop',
 u'show',
 u'shut',
 u'sick',
 u'side',
 u'sign',
 u'silk',
 u'sing',
 u'sink',
 u'size',
 u'slow',
 u'snow',
 u'soil',
 u'sole',
 u'some',
 u'song',
 u'sons',
 u'soon',
 u'sore',
 u'sort',
 u'soul',
 u'span',
 u'spin',
 u'spot',
 u'spun',
 u'star',
 u'stay',
 u'step',
 u'stir',
 u'stop',
 u'such',
 u'suit',
 u'sums',
 u'sunk',
 u'suns',
 u'sure',
 u'sway',
 u'take',
 u'talk',
 u'task',
 u'tear',
 u'teem',
 u'tell',
 u'tend',
 u'tens',
 u'term',
 u'test',
 u'text',
 u'than',
 u'that',
 u'thee',
 u'them',
 u'then',
 u'they',
 u'this',
 u'thus',
 u'tide',
 u'ties',
 u'till',
 u'time',
 u'tiny',
 u'tire',
 u'toil',
 u'told',
 u'tomb',
 u'tone',
 u'took',
 u'tool',
 u'torn',
 u'town',
 u'tree',
 u'trim',
 u'true',
 u'turn',
 u'type',
 u'undo',
 u'unto',
 u'upon',
 u'urge',
 u'used',
 u'uses',
 u'vain',
 u'vary',
 u'vast',
 u'veil',
 u'very',
 u'veto',
 u'vice',
 u'view',
 u'void',
 u'vote',
 u'vows',
 u'wage',
 u'wait',
 u'walk',
 u'wall',
 u'wane',
 u'want',
 u'warm',
 u'wars',
 u'wave',
 u'ways',
 u'weak',
 u'weal',
 u'weed',
 u'week',
 u'weld',
 u'well',
 u'went',
 u'were',
 u'west',
 u'what',
 u'when',
 u'whip',
 u'whom',
 u'wide',
 u'wife',
 u'wild',
 u'will',
 u'wily',
 u'wind',
 u'wipe',
 u'wise',
 u'wish',
 u'with',
 u'word',
 u'work',
 u'worm',
 u'worn',
 u'writ',
 u'year',
 u'your',
 u'zeal',
 u'zone']

In [116]:

vocab = set(text4)
four_plus = [word for word in vocab if len(word) > 3]
sorted(four_plus)

Out[116]:

[u'....',
 u'14th',
 u'15th',
 u'1774',
 u'1776',
 u'1778',
 u'1780',
 u'1787',
 u'1789',
 u'1790',
 u'1800',
 u'1801',
 u'1812',
 u'1815',
 u'1816',
 u'1817',
 u'1818',
 u'1826',
 u'1850',
 u'1861',
 u'1868',
 u'1873',
 u'1880',
 u'1886',
 u'1890',
 u'1893',
 u'1896',
 u'1897',
 u'1898',
 u'1899',
 u'18th',
 u'1907',
 u'1917',
 u'1933',
 u'1941',
 u'1945',
 u'1963',
 u'1972',
 u'1980',
 u'1984',
 u'19th',
 u'200th',
 u'20th',
 u'21st',
 u'30th',
 u'50th',
 u'AIDS',
 u'AMENDMENT',
 u'Abandonment',
 u'Abhorring',
 u'About',
 u'Above',
 u'Abraham',
 u'Abroad',
 u'Accept',
 u'Across',
 u'Acting',
 u'Action',
 u'Actual',
 u'Adams',
 u'Additional',
 u'Address',
 u'Administered',
 u'Administration',
 u'Administrations',
 u'Advance',
 u'Advancing',
 u'Afghanistan',
 u'Africa',
 u'African',
 u'After',
 u'Again',
 u'Agriculture',
 u'Alamo',
 u'Alleghanies',
 u'Almighty',
 u'Almost',
 u'Along',
 u'Already',
 u'Although',
 u'Always',
 u'Amelia',
 u'Amen',
 u'America',
 u'American',
 u'Americanism',
 u'Americans',
 u'Americas',
 u'Amid',
 u'Amidst',
 u'Among',
 u'Amongst',
 u'Andes',
 u'Annihilate',
 u'Another',
 u'Anthony',
 u'Anxiety',
 u'Anxious',
 u'Anyone',
 u'Apollo',
 u'Appreciating',
 u'Apprehension',
 u'April',
 u'Arbitration',
 u'Archibald',
 u'Argonne',
 u'Arlington',
 u'Armies',
 u'Army',
 u'Articles',
 u'Asia',
 u'Asiatic',
 u'Assessing',
 u'Assistance',
 u'Association',
 u'Assuring',
 u'Athens',
 u'Atlantic',
 u'Attention',
 u'Author',
 u'BUSINESS',
 u'Baker',
 u'Baltimore',
 u'Barbary',
 u'Batavian',
 u'Beach',
 u'Because',
 u'Before',
 u'Being',
 u'Belief',
 u'Believing',
 u'Bell',
 u'Belleau',
 u'Beneath',
 u'Beneficent',
 u'Bernardin',
 u'Besides',
 u'Between',
 u'Beyond',
 u'Bible',
 u'Bicentennial',
 u'Bill',
 u'Blessed',
 u'Board',
 u'Bolivar',
 u'Boston',
 u'Both',
 u'Britain',
 u'Britannic',
 u'British',
 u'Brutus',
 u'Budapest',
 u'Bureau',
 u'Burger',
 u'Burma',
 u'Bush',
 u'Business',
 u'CONCLUSION',
 u'CONGRESS',
 u'COOPERATION',
 u'CRIMINAL',
 u'Cabinet',
 u'Caesar',
 u'California',
 u'Called',
 u'Calmness',
 u'Calvin',
 u'Camillus',
 u'Canal',
 u'Cantons',
 u'Cape',
 u'Capital',
 u'Capitol',
 u'Cardinal',
 u'Care',
 u'Carolina',
 u'Carter',
 u'Cemetery',
 u'Central',
 u'Century',
 u'Certain',
 u'Chairman',
 u'Chamber',
 u'Change',
 u'Charta',
 u'Charter',
 u'Cheney',
 u'Chief',
 u'China',
 u'Chop',
 u'Chosen',
 u'Chosin',
 u'Christian',
 u'Christianity',
 u'Christians',
 u'Christmas',
 u'Christs',
 u'Church',
 u'Churchill',
 u'Cincinnati',
 u'Citizens',
 u'Civil',
 u'Civility',
 u'Claiming',
 u'Clay',
 u'Clearly',
 u'Clergy',
 u'Clinton',
 u'Closely',
 u'Coast',
 u'Cold',
 u'Coleman',
 u'Colonel',
 u'Columbia',
 u'Comfort',
 u'Commander',
 u'Commendable',
 u'Commerce',
 u'Commission',
 u'Commissioners',
 u'Common',
 u'Commons',
 u'Commonwealth',
 u'Communications',
 u'Communism',
 u'Communist',
 u'Communists',
 u'Compact',
 u'Compared',
 u'Conceived',
 u'Conceiving',
 u'Concord',
 u'Conditions',
 u'Confederacy',
 u'Confederation',
 u'Confidence',
 u'Confident',
 u'Confidently',
 u'Confusion',
 u'Congress',
 u'Congressional',
 u'Congressman',
 u'Connected',
 u'Conscious',
 u'Considering',
 u'Constantly',
 u'Constitution',
 u'Constitutional',
 u'Contemplating',
 u'Content',
 u'Continue',
 u'Convention',
 u'Convinced',
 u'Cook',
 u'Coolidge',
 u'Corporations',
 u'Cortes',
 u'Country',
 u'Countrymen',
 u'Courage',
 u'Court',
 u'Covenant',
 u'Creator',
 u'Crime',
 u'Croix',
 u'Cromwell',
 u'Cuba',
 u'Cuban',
 u'Cubans',
 u'Cures',
 u'Curtii',
 u'Dakota',
 u'Dakotas',
 u'Dangers',
 u'Dark',
 u'David',
 u'December',
 u'Decii',
 u'Declaration',
 u'Deeply',
 u'Delano',
 u'Democracy',
 u'Democratic',
 u'Democrats',
 u'Department',
 u'Departments',
 u'Depression',
 u'Descending',
 u'Destructive',
 u'Difficult',
 u'Dingley',
 u'Directly',
 u'Dirksen',
 u'Discord',
 u'Discouraging',
 u'Disease',
 u'Distinct',
 u'District',
 u'Distrust',
 u'Divided',
 u'Divine',
 u'Division',
 u'Does',
 u'Doing',
 u'Dole',
 u'Domestic',
 u'Domingo',
 u'Dream',
 u'Dulled',
 u'During',
 u'EDUCATION',
 u'EIGHTEENTH',
 u'ELECTION',
 u'ENFORCEMENT',
 u'Each',
 u'Earth',
 u'East',
 u'Economic',
 u'Economy',
 u'Egypt',
 u'Eight',
 u'Eisenhower',
 u'Elected',
 u'Emerson',
 u'Emperor',
 u'Employed',
 u'Encountering',
 u'Encouraging',
 u'Ending',
 u'Endowed',
 u'Engineers',
 u'England',
 u'English',
 u'Enough',
 u'Entering',
 u'Enterprises',
 u'Envy',
 u'Equal',
 u'Equality',
 u'Equally',
 u'Especially',
 u'Establishment',
 u'Europe',
 u'European',
 u'Even',
 u'Events',
 u'Eventually',
 u'Ever',
 u'Every',
 u'Everyone',
 u'Everywhere',
 u'Executive',
 u'Existing',
 u'Expenditure',
 u'Experience',
 u'Experiencing',
 u'FAILURE',
 u'FROM',
 u'Faced',
 u'Farewell',
 u'Father',
 u'Fathers',
 u'February',
 u'Federal',
 u'Federalists',
 u'Fellow',
 u'Fifty',
 u'Finally',
 u'First',
 u'Florida',
 u'Floridas',
 u'Following',
 u'Fondly',
 u'Force',
 u'Forces',
 u'Foreign',
 u'Forge',
 u'Fort',
 u'Fortunate',
 u'Fortunately',
 u'Forty',
 u'Founders',
 u'Founding',
 u'Fountain',
 u'Four',
 u'Fourth',
 u'France',
 u'Franklin',
 u'Freed',
 u'Freedom',
 u'French',
 u'Friends',
 u'From',
 u'Front',
 u'Fruitful',
 u'Fully',
 u'GOVERNMENT',
 u'Gatun',
 u'Gaul',
 u'General',
 u'Genius',
 u'George',
 u'Germany',
 u'Gettysburg',
 u'Ghent',
 u'Gillis',
 u'Give',
 u'Giver',
 u'Godsend',
 u'Goethals',
 u'Golden',
 u'Good',
 u'Gore',
 u'Government',
 u'Governments',
 u'Grant',
 u'Grave',
 u'Great',
 u'Greater',
 u'Greatness',
 u'Greece',
 u'Gross',
 u'Growing',
 u'Guadalcanal',
 u'Guarantees',
 u'Guided',
 u'Gulf',
 u'HEALTH',
 u'Hague',
 u'Half',
 u'Hall',
 u'Hand',
 u'Happily',
 u'Happiness',
 u'Happy',
 u'Hard',
 u'Hatfield',
 u'Have',
 u'Having',
 u'Heads',
 u'Heaven',
 u'Heavenly',
 u'Help',
 u'Helvetic',
 u'Hemisphere',
 u'Hence',
 u'Here',
 u'Herein',
 u'High',
 u'Higher',
 u'Hill',
 u'Hindus',
 u'History',
 u'Hitherto',
 u'Holy',
 u'Homes',
 u'Homestead',
 u'Honesty',
 u'Honorable',
 u'Honored',
 u'Honoring',
 u'Hope',
 u'Horn',
 u'House',
 u'Houses',
 u'However',
 u'Human',
 u'Humanity',
 u'Humphrey',
 u'Hundreds',
 u'INVESTIGATION',
 u'Idle',
 u'Illiteracy',
 u'Immunity',
 u'Inauguration',
 u'Inconsiderable',
 u'Indeed',
 u'Independence',
 u'Independently',
 u'Indian',
 u'Indians',
 u'Indies',
 u'Indo',
 u'Indulging',
 u'Industrial',
 u'Industry',
 u'Infinite',
 u'Information',
 u'Instead',
 u'Instinctively',
 u'Intelligence',
 u'Intentions',
 u'Internal',
 u'International',
 u'Internet',
 u'Interstate',
 u'Intrusted',
 u'Invasions',
 u'Investment',
 u'Invisible',
 u'Iowa',
 u'Iraq',
 u'Irritated',
 u'Isaiah',
 u'Island',
 u'Islands',
 u'Isles',
 u'Israel',
 u'Isthmus',
 u'Italy',
 u'JUSTICE',
 u'Janeiro',
 u'January',
 u'Jealous',
 u'Jefferson',
 u'Jericho',
 u'Jews',
 u'Jima',
 u'John',
 u'Johnson',
 u'Joseph',
 u'Julia',
 u'July',
 u'Just',
 u'Justice',
 u'Kansas',
 u'Kindly',
 u'King',
 u'Knowing',
 u'Koran',
 u'Korea',
 u'Labor',
 u'Laboring',
 u'Lakes',
 u'Latent',
 u'Laws',
 u'Leader',
 u'League',
 u'Legislation',
 u'Legislature',
 u'Legitimate',
 u'Less',
 u'Liberty',
 u'Like',
 u'Likewise',
 u'Limited',
 u'Lincoln',
 u'Lives',
 u'Loans',
 u'Local',
 u'Long',
 u'Look',
 u'Looking',
 u'Lord',
 u'Louisiana',
 u'Love',
 u'Loyalty',
 u'Luther',
 u'Lynchings',
 u'MANDATES',
 u'MacLeish',
 u'Madison',
 u'Magistrate',
 u'Magna',
 u'Magnifying',
 u'Majesty',
 u'Majority',
 u'Make',
 u'Maker',
 u'Malaya',
 u'Mall',
 u'Manifestly',
 u'Mankind',
 u'Many',
 u'March',
 u'Mars',
 u'Martin',
 u'Massachusetts',
 u'Masses',
 u'Mathias',
 u'Mayflower',
 u'Meantime',
 u'Measures',
 u'Medicare',
 u'Mediterranean',
 u'Melancholy',
 u'Memorial',
 u'Mental',
 u'Mexico',
 u'Micah',
 u'Michael',
 u'Middle',
 u'Mill',
 u'Mind',
 u'Mindful',
 u'Minorities',
 u'Mischievous',
 u'Misled',
 u'Miss',
 u'Mississippi',
 u'Missouri',
 u'Mitchell',
 u'Modern',
 u'Moment',
 u'Mondale',
 u'Monday',
 u'Monroe',
 u'Montana',
 u'Monticello',
 u'Moomaw',
 u'Moon',
 u'Moral',
 u'More',
 u'Moreover',
 u'Mormon',
 u'Moscow',
 u'Most',
 u'Mount',
 u'Mountains',
 u'Much',
 u'Muslim',
 u'Muslims',
 u'Must',
 u'NATIONAL',
 u'Nation',
 u'National',
 u'Nations',
 u'Nature',
 u'Naval',
 u'Navy',
 u'Nearly',
 u'Nebraska',
 u'Negligence',
 u'Negro',
 u'Negroes',
 u'Neill',
 u'Neither',
 u'Never',
 u'Next',
 u'Nixon',
 u'None',
 u'Normandy',
 u'North',
 u'Northerners',
 u'Nothing',
 u'Notwithstanding',
 u'November',
 u'Nowhere',
 u'OTHER',
 u'Occasionally',
 u'Ocean',
 u'Oceans',
 u'Octavius',
 u'October',
 u'Offices',
 u'Ohio',
 u'Omaha',
 u'Omnipotence',
 u'Once',
 u'Only',
 u'Opportunism',
 u'Opportunity',
 u'Order',
 u'Oregon',
 u'Orient',
 u'Orleans',
 u'Other',
 u'Others',
 u'Ours',
 u'Over',
 u'Overlooking',
 u'Overwhelmingly',
 u'PARTY',
 u'PEACE',
 u'PROGRESS',
 u'PUBLIC',
 u'Pacific',
 u'Page',
 u'Panama',
 u'Parchment',
 u'Parent',
 u'Parents',
 u'Paris',
 u'Parliament',
 u'Partial',
 u'Party',
 u'Passing',
 u'Passion',
 u'Patriotism',
 u'Patron',
 u'Peabody',
 u'Peace',
 u'Peking',
 u'Penetrating',
 u'Pennsylvania',
 u'People',
 u'Peoples',
 u'Perceiving',
 u'Perfection',
 u'Perhaps',
 u'Permanent',
 u'Perpetual',
 u'Perpetuity',
 u'Persian',
 u'Persistent',
 u'Personally',
 u'Petitions',
 u'Philippine',
 u'Philippines',
 u'Physically',
 u'Plainly',
 u'Pledge',
 u'Plenty',
 u'Political',
 u'Pool',
 u'Pork',
 u'Porto',
 u'Ports',
 u'Position',
 u'Possessing',
 u'Posterity',
 u'Potomac',
 u'Power',
 u'Powerful',
 u'Powers',
 u'Practices',
 u'Preeminently',
 u'Prejudice',
 u'Present',
 u'Presidency',
 u'President',
 u'Presidential',
 u'Presidents',
 u'Previous',
 u'Price',
 u'Prices',
 u'Primarily',
 u'Problems',
 u'Proceeding',
 u'Product',
 u'Profound',
 u'Progress',
 u'Proofs',
 u'Prophets',
 u'Prosperity',
 u'Protector',
 u'Providence',
 u'Province',
 u'Public',
 u'Purposes',
 u'Putting',
 u'Quayle',
 u'RELATION',
 u'RESPONSIBILITIES',
 u'Race',
 u'Rainbow',
 u'Raised',
 u'Rather',
 u'Reagan',
 u'Realizing',
 u'Reasoned',
 u'Recall',
 u'Recent',
 u'Recognition',
 u'Recognizing',
 u'Reconstruction',
 u'Reflecting',
 u'Reform',
 u'Reforms',
 u'Relief',
 u'Relying',
 u'Removing',
 u'Renewed',
 u'Repeated',
 u'Representative',
 u'Representatives',
 u'Republic',
 u'Republican',
 u'Republicans',
 u'Republics',
 u'Reservoir',
 u'Resolved',
 u'Respecting',
 u'Resting',
 u'Restoration',
 u'Retrospect',
 u'Returning',
 u'Reverend',
 u'Revolution',
 u'Revolutionary',
 u'Rico',
 u'Rights',
 u'Rigid',
 u'River',
 u'Rocky',
 u'Roman',
 u'Rome',
 u'Roosevelt',
 u'Root',
 u'Rule',
 u'Ruler',
 u'Russia',
 u'SESSION',
 u'SPECIAL',
 u'SYSTEM',
 u'Sabine',
 u'Sacredly',
 u'Sahn',
 u'Salerno',
 u'Sanitary',
 u'Santo',
 u'Savior',
 u'Scandinavia',
 u'Science',
 u'Scientists',
 u'Scipios',
 u'Scripture',
 u'Scythia',
 u'Second',
 u'Secretary',
 u'Sectionalism',
 u'Security',
 u'Seeking',
 u'Self',
 u'Senate',
 u'Senator',
 u'Senators',
 u'September',
 u'Sermon',
 u'Service',
 u'Shall',
 u'Shortly',
 u'Should',
 u'Sinai',
 u'Since',
 u'Situated',
 u'Slowly',
 u'Small',
 u'Social',
 u'Societies',
 u'Society',
 u'Solemnly',
 u'Somalia',
 u'Some',
 u'Something',
 u'Sometimes',
 u'South',
 u'Southern',
 u'Sovereignty',
 u'Soviet',
 u'Soviets',
 u'Spain',
 u'Spanish',
 u'Speaker',
 u'Splendid',
 u'Stages',
 u'Standing',
 u'Stars',
 u'Start',
 u'Starting',
 u'State',
 u'States',
 u'Steadfast',
 u'Stennis',
 u'Steps',
 u'Still',
 u'Stripped',
 u'Strong',
 u'Subordinate',
 u'Such',
 u'Suicide',
 u'Suitably',
 u'Sumter',
 u'Superficial',
 u'Suppose',
 u'Supreme',
 u'Surely',
 u'THIS',
 u'Take',
 u'Tapping',
 u'Tarawa',
 u'Tarry',
 u'Technology',
 u'Terrific',
 u'Territorial',
 u'Territories',
 u'Territory',
 u'Texas',
 u'Thank',
 u'That',
 u'Their',
 u'Then',
 u'There',
 u'Therefore',
 u'These',
 u'They',
 u'Things',
 u'Think',
 u'Third',
 u'Thirty',
 u'This',
 u'Thomas',
 u'Those',
 u'Thou',
 u'Though',
 u'Thrones',
 u'Through',
 u'Throughout',
 u'Thus',
 u'Time',
 u'Timidity',
 u'Today',
 u'Together',
 u'Toward',
 u'Treasury',
 u'Treaties',
 u'Treptow',
 u'Tribunal',
 u'True',
 u'Truman',
 u'Twenty',
 u'Ultimately',
 u'Unanimity',
 u'Under',
 u'Underneath',
 u'Undoubtedly',
 u'Union',
 u'United',
 u'Universal',
 u'Universe',
 u'Unless',
 u'Unlike',
 u'Unpleasant',
 u'Until',
 u'Unwilling',
 u'Upon',
 u'Upward',
 u'Usurpation',
 u'Utopian',
 u'Utterly',
 u'Valley',
 u'Values',
 u'Various',
 u'Vice',
 u'Vietnam',
 u'Virginia',
 u'Vitality',
 u'Voices',
 u'WORLD',
 u'Warren',
 u'Wars',
 u'Washington',
 u'Wastefulness',
 u'Wealth',
 u'Webster',
 u'Well',
 u'West',
 u'Western',
 u'What',
 u'Whatever',
 u'Whatsoever',
 u'When',
 u'Whenever',
 u'Where',
 u'Whether',
 u'While',
 u'Whilst',
 u'White',
 u'Whoever',
 u'Will',
 u'Winston',
 u'Wise',
 u'With',
 u'Within',
 u'Without',
 u'Wood',
 u'World',
 u'Wright',
 u'Writ',
 u'Xand',
 u'Xideals',
 u'Xpreparing',
 u'Xprone',
 u'Xtested',
 u'Xthe',
 u'Xthey',
 u'Xthough',
 u'Xviolence',
 u'YOUNG',
 u'York',
 u'Yorktown',
 u'Your',
 u'abandon',
 u'abandoned',
 u'abandonment',
 u'abate',
 u'abdicated',
 u'abeyance',
 u'abide',
 u'abiding',
 ...]

In [121]:

doing = ['coding', 'python', 'NLTK']
for things in doing:
    print 'learning', things
print 'thanks for calling back, sorry to miss you. I miss you'

learning coding
learning python
learning NLTK
thanks for calling back, sorry to miss you. I miss you

In [122]:

fdist5 = Freqdist(text5)

---------------------------------------------------------------------------
NameError                                 Traceback (most recent call last)
<ipython-input-122-d6e6acf5b27f> in <module>()
----> 1 fdist5 = Freqdist(text5)

NameError: name 'Freqdist' is not defined

In [123]:

fdist5 = FreqDist(text5)

In [124]:

vocab = set(text5)
long_words = [word for word in vocab if len(word) > 7]
sorted(long_words)

Out[124]:

[u'!!!!!!!!',
 u'!!!!!!!!!',
 u'!!!!!!!!!!',
 u'!!!!!!!!!!!',
 u'!!!!!!!!!!!!!',
 u'!!!!!!!!!!!!!!!!',
 u'!!!!!!!!!!!!!!!!!!!!!!',
 u'!!!!!!!!!!!!!!!!!!!!!!!',
 u'!!!!!!!!!!!!!!!!!!!!!!!!!!!',
 u'!!!!!!!!!!!!!!!!!!!!!!!!!!!!',
 u'!!!!!!!!!!!!!!!!!!!!!!!!!!!!!!!!!!!!!!!!!!!!!!!!!!!!!!',
 u'!!!!....',
 u'#14-19teens',
 u'#40sPlus',
 u'#prideIsland',
 u'#prideisland',
 u'#talkcity-20s',
 u'#talkcity_adults',
 u'( o Y o )',
 u'((((((((',
 u'(((((((((',
 u'((((((((((',
 u'(((((((((((',
 u'((((((((((((',
 u'(((((((((((((',
 u'((((((((((((((',
 u'(((((((((((((((',
 u'(((((((((((((((((',
 u'((((((((((((((((((',
 u'((((((((((((((((((((',
 u'(((((((((((((((((((((',
 u'(((((((((((((((((((((((',
 u'((((((((((((((((((((((((',
 u'(((((((((((((((((((((((((',
 u'((((((((((((((((((((((((((',
 u'))))))))',
 u')))))))))',
 u'))))))))))',
 u')))))))))))',
 u'))))))))))))',
 u')))))))))))))',
 u'))))))))))))))',
 u')))))))))))))))',
 u')))))))))))))))))',
 u')))))))))))))))))))',
 u')))))))))))))))))))))',
 u'))))))))))))))))))))))',
 u'))))))))))))))))))))))))))))',
 u')))))))))))))))))))))))))))))))',
 u'*drools*',
 u'*smewchies*',
 u'*sniffs*',
 u'+*+*+*+*',
 u',,,,,,,,,,,',
 u'-------------',
 u'--------------------',
 u'--------->',
 u'-...)...-',
 u'.(..(.vMp3 v1.7.4.).)',
 u'.(..(.vMp3 vi.p.t.)..).',
 u'........',
 u'.........',
 u'..........',
 u'...........',
 u'............',
 u'.............',
 u'................',
 u'..................',
 u'...................',
 u'....................',
 u'........................',
 u'..............................',
 u'.A.n.a.c.?.n.?.a.',
 u'//www.wunderground.com/cgi-bin/findweather/getForecast?query=95953#FIR',
 u'1-900-anal-sex',
 u'3~<-..4@.',
 u'8082653953',
 u':tongue:',
 u'<----------',
 u'<333333333',
 u'<3333333333333333',
 u'<33333333333333333',
 u'<<<<<<<<<<<<<<',
 u'>>>>>>>>>>',
 u'>>>>>>>>>>>',
 u'>>>>>>>>>>>>',
 u'??!?!??!',
 u'????????',
 u'?????????',
 u"@..3-,'~.",
 u'Aberdeen',
 u'Actually',
 u'Advisory',
 u'Amazingness',
 u'American',
 u'Americans',
 u'Apocalypse',
 u'Apparently',
 u'Arkansas',
 u'BAAAAALLLLLLLLIIIIIIINNNNNNNNNNN',
 u'Barbieee',
 u'Barometer',
 u'Benjamin',
 u'Biiiiiitch',
 u'Biographys',
 u'Birdgang',
 u'Bloooooooood',
 u'Bloooooooooood',
 u'Bloooooooooooood',
 u'Breaking',
 u'CHATHIDE',
 u'California',
 u'Cardinals',
 u'Cardnials',
 u'Carolina',
 u'Catterick',
 u'Chamillionaire',
 u'Changing',
 u'Chickens',
 u'Children',
 u'Christianity',
 u'Cleveland',
 u'Coincidence',
 u'Compliments',
 u'Connected',
 u'Connecticutt',
 u'Considerably',
 u'Constitution',
 u'DELIGHTFUL',
 u'Dawnstar',
 u'EVERYTHING',
 u'Edgewood',
 u'Evanescence',
 u'Everyone',
 u'Everytime',
 u'Fairbanks',
 u'Favorite',
 u'Fergalicious',
 u'Fighting',
 u'Foxwoods',
 u'FreesBee',
 u'G-Mobile',
 u'Geographic',
 u'Gracemont',
 u'Greetings',
 u'HHEEYYYYYYYYYYYYYYYYYYYYYYYYYYYYYYYYYYYYYYYYYYYYYYY',
 u'Heyyyyyyy',
 u'HolocaustYourMom',
 u'Humidity',
 u'INTERESTING',
 u'Indiantown',
 u'Jerketts',
 u'Jonesboro',
 u'Jordison',
 u'Kentucky',
 u'LOLOLOLLL',
 u'Louisville',
 u'Lousiana',
 u'Maidstone',
 u'Messaging',
 u'Metallica',
 u'Michigan',
 u'Mooooooooooooooooooooooooooo',
 u'Nashville',
 u'Nevermind',
 u'Niceeeee',
 u'Nickelback',
 u'Nooooooooooooooo',
 u'Observed',
 u'Obviously',
 u'Offspring',
 u'Oklahoma',
 u'Perception',
 u'Permenant',
 u'Playstation',
 u'Post-haste',
 u'QUESTION',
 u'Question',
 u'Remember',
 u'Reminder',
 u'Repeatedly',
 u'Resident',
 u'Roadrunner',
 u'Rothlisburger',
 u'SINGLEEEEEEEE',
 u'SOMETHING',
 u'STALLION',
 u'SYNDORME',
 u'Salesman',
 u'Salisbury',
 u'Saturday',
 u'Sessions',
 u'Shaneeeeeeeee',
 u'Shinedown',
 u'Silverstein',
 u'Smoochies',
 u'Soilwork',
 u'Something',
 u'Splashing',
 u'Strapped',
 u'Swackhammer',
 u'Swinging',
 u'T-Mobile',
 u'Tennessee',
 u'Touching',
 u'Ultimate',
 u'UnScramble',
 u'Unboring',
 u'Unlimited',
 u'VIRGINIA',
 u'WEEEEEEEEEEEEEEEEEE',
 u'Wainwright',
 u'Watching',
 u'Wednesday',
 u'Wellbutrin',
 u'Whereabouts',
 u'Whispering',
 u'Whistlin',
 u'Whitesnake',
 u'Wisconsin',
 u'XXXXXXXXXX',
 u'Zebrahead',
 u'[[[[[[[[[[[[[[[[[[',
 u']]]]]]]]]]]]]]]]]]]]]',
 u'aaaaaaaaaaaaaaaaa',
 u'aberdeen',
 u'abortions',
 u'abourted',
 u'accident',
 u'achiever',
 u'actually',
 u'addicted',
 u'adreniline',
 u'adventure',
 u'afternoon',
 u'aggravated',
 u'agurlwithbigguns',
 u'ahhahahaha',
 u'ahhhhhhhhhhhhhh',
 u'aiiiiiiiiiiiiiiiiiiiiiiii',
 u'aligator',
 u'allergies',
 u'alternatives',
 u'alzheimers',
 u'american',
 u'anithing',
 u'annoying',
 u'answering',
 u'anti-sexy',
 u'antidepressants',
 u'anything',
 u'anyyyyyyyyyyyyyyyyy',
 u'apartment',
 u'apoligize',
 u'appearently',
 u'applaudes',
 u'appleton',
 u'appologise',
 u'appologize',
 u'appreciate',
 u'aqwesome',
 u'arggghhh',
 u'armtnpeat',
 u'arrested',
 u'assholes',
 u'atmospheric',
 u'attempted',
 u'attention',
 u'attorney',
 u'attracted',
 u'attraction',
 u'australia',
 u'awesomee',
 u'awesomes',
 u'awrighty',
 u'awwwwwww',
 u'awwwwwwwwww',
 u'azerbaijan',
 u'babblein',
 u'babycakeses',
 u'bachelorette',
 u'backatchya',
 u'backfrontsidewaysandallaroundtheworld',
 u'backroom',
 u'bahahahaa',
 u'barfights',
 u'basically',
 u'bbbbbyyyyyyyeeeeeeeee',
 u'beachhhh',
 u'beattles',
 u'beautiful',
 u'beeeeehave',
 u'beeehave',
 u'belongings',
 u'betrayal',
 u'biiiatch',
 u'birthday',
 u'bisexual',
 u'blessings',
 u'blocking',
 u'blueberry',
 u'boooooooooooglyyyyyy',
 u'borderline',
 u'born-again',
 u'bothering',
 u'bouncers',
 u'boyfriend',
 u'breeding',
 u'brightened',
 u'brooklyn',
 u'brothers',
 u'brrrrrrr',
 u'brunswick',
 u'buddyyyyyy',
 u'butterscotch',
 u'bwahahahahahahahahahaha',
 u'byeeeeeeee',
 u'byeeeeeeeeeeeee',
 u'callifornia',
 u'canadaian',
 u'canadain',
 u'canadian',
 u'cardinals',
 u'carefully',
 u'carolina',
 u'carrying',
 u'catastrophic',
 u'categories',
 u'cessation',
 u'changing',
 u'chanowner',
 u'chatland',
 u'chatroom',
 u'chattanooga',
 u'chatting',
 u'cheaking',
 u'cheating',
 u'checking',
 u'children',
 u'chineese',
 u'cho-co-la-te',
 u'cho-co-late',
 u'chococake',
 u'chocolate',
 u'christian',
 u'christianity',
 u'chucking',
 u'chuckles',
 u'churches',
 u'cigarette',
 u'ciggareets',
 u'cingular',
 u'classroom',
 u'clinicals',
 u'cnnecticut',
 u'coconuts',
 u'coexistence',
 u'coggieeee',
 u'coherent',
 u'comenting',
 u'commanded',
 u'comments',
 u'complain',
 u'complains',
 u'completly',
 u'complicated',
 u'comprende',
 u'computer',
 u'computers',
 u'computor',
 u'conceited',
 u'concernin',
 u'concerning',
 u'concrete',
 u'condition',
 u'confessed',
 u'confused',
 u'confusing',
 u'confusting',
 u'congrats',
 u'congressman',
 u'connection',
 u'considered',
 u'considering',
 u'conspiracy',
 u'constituents',
 u'construction',
 u'consultant',
 u'consuming',
 u'contagious',
 u'contemplating',
 u'contented',
 u'contribute',
 u'controll',
 u'controllers',
 u'controllin',
 u'controlling',
 u'conversation',
 u'converse',
 u'conversion',
 u'convinced',
 u'cool1024',
 u'coonarsee',
 u'cooooooooookiiiiiiiiiiiieeeeeeeeeeee',
 u'correction',
 u'costumes',
 u'courtesy',
 u'courtney',
 u'coworkers',
 u'creative',
 u'cris-cross',
 u'criss-cross',
 u'cuddlicious',
 u'currious',
 u'cute.-ass',
 u'cuteness',
 u'cyb3r-lover',
 u"cyberin'",
 u'czeching',
 u'darlings',
 u'daughter',
 u'daughters',
 u'de-tubetop',
 u'deceived',
 u'deciding',
 u'declawed',
 u'definately',
 u'definitely',
 u'definitley',
 u'defragging',
 u'deleware',
 u'deliverance',
 u'delivers',
 u'democrats',
 u'denomination',
 u'depending',
 u'depressant',
 u'depressed',
 u'depression',
 u'descriminate',
 u'despises',
 u'destruction',
 u'development',
 u'devotion',
 u'difference',
 u'different',
 u'differently',
 u'dirrrrty',
 u'disagree',
 u'disappointed',
 u'discretion',
 u'disgusting',
 u'dislocated',
 u'disocvered',
 u'dispatcher',
 u'distance',
 u'distracted',
 u'distrustful',
 u'disturbing',
 u'divorced',
 u'doublewide',
 u'douchebag',
 u'downloaded',
 u'downloading',
 u'downnnnnn',
 u'downtown',
 u'drinking',
 u'dsklgjsdk',
 u'dyslexic',
 u"e'wjfghky",
 u'e-herpes',
 u'e-husband',
 u'e-v-e-r-y',
 u'early20s',
 u'earplugs',
 u'earrings',
 u'edgewood',
 u'edmonton',
 u'eeeeeeeeewwwwwwww',
 u'eeewwwwww',
 u'election',
 u'elections',
 u'electric',
 u'elevation',
 u'elsewhere',
 u'emergency',
 u'employed',
 u'entertain',
 u'entertaining',
 u'entitled',
 u'eroticaust',
 u'especially',
 u'essentially',
 u'euphamisms',
 u'euphemism',
 u'european',
 u'everbody',
 u'evertonr',
 u'everybody',
 u'everyday',
 u'everyone',
 u'everything',
 u'ewedding',
 u'ewwwwwww',
 u'excellent',
 u'exception',
 u'exchange',
 u'exchanged',
 u'exchanging',
 u'excitement',
 u'excuuuuuuse',
 u'expensive',
 u'experience',
 u'experimenting',
 u'expression',
 u'extensions',
 u'f**kalicious',
 u'f*cktards',
 u'facilitated',
 u'fantastic',
 u'fantastical',
 u'fascination',
 u'favorite',
 u'feelings',
 u'fetterline',
 u'fighting',
 u'financial',
 u'finished',
 u'fishercat',
 u'fishercats',
 u'flattered',
 u'flirting',
 u'floating',
 u'flooding',
 u'following',
 u'football',
 u'foothills',
 u'footprints',
 u'foreplay',
 u'forgotten',
 u'forwards',
 u'fractured',
 u'freaking',
 u'freakishly',
 u'freeeezinggg',
 u'freeezinggggg',
 u'frenchkiss',
 u'friendly',
 u'frustrating',
 u'fuddahnut',
 u'fulfilling',
 u'furniture',
 u'futurama',
 u'gaaaaaaay',
 u'gayoholic',
 u'gentlemen',
 u'gettysburg',
 u'gguyyyzzzz',
 u'gigantic',
 u'giggling',
 u'girlfriend',
 u'glitches',
 u'glorious',
 u'goodness',
 u'goodnight',
 u'goodnite',
 u'graciously',
 u'graphics',
 u'grettings',
 u'grilfriend',
 u'grrrrrring',
 u'grrrrrrrr',
 u'grrrrrrrrr',
 u'grrrrrrrrrrrrrrrrr',
 u'guessing',
 u'hahahaHA',
 u'hahahaha',
 u'hahahahaaa',
 u'hahahahahaha',
 u'hahahahahahaha',
 u'hahahahahahahahahahahahahahahaha',
 u'hahahhahah',
 u'hahhahahaha',
 u'halloween',
 u'handheld',
 u'handsome',
 u'handyMan',
 u'happened',
 u'happening',
 u'hardware',
 u'hartford',
 u'headlights',
 u'heartbreaker',
 u'hearthechatters',
 u'heeheeheeheeheehee',
 u'hehehehe',
 u'helloooo',
 u'heyheyhey',
 u'heyyyyyy',
 u'heyyyyyyyy',
 u'heyyyyyyyyy',
 u'heyyyyyyyyyy',
 u'heyyyyyyyyyyyyyy',
 u'hgfhgfjgf',
 u'hhaaaaatttee',
 u'hilarious',
 u'hmmmmmmm',
 u'hmmmmmmmm',
 u'hmmmmmmmmmm',
 u'hohohohhohhoo',
 u'holocaust',
 u'homeboys',
 u'homework',
 u'homicide',
 u'homophobic',
 u'homosexual',
 u'hopefully',
 u'horriable',
 u'horrible',
 u'horrified',
 u'housewife',
 u'http://forums.talkcity.com/tc-adults/start ',
 u'http://www.shadowbots.com',
 u'hugsssss',
 u'hugsssssssss',
 u'hugzzzzzzz',
 u'humanity',
 u'husteling',
 u'huuuuuuuuuuuuuuuuuuuuuuuuuuuuuuuuuuugZ',
 u'iamahotnip',
 u'iamahotniplickme',
 u'iamahotnipwithhotnippics',
 u'iamahotnipwithpics',
 u'identity',
 u'ignoring',
 u'ihavehotnips',
 u'illinois',
 u'imaginary',
 u'immediate',
 u'immersed',
 u'impaired',
 u'important',
 u'impossible',
 u'impressed',
 u'impression',
 u'included',
 u'incoming',
 u'individual',
 u'infection',
 u'information',
 u'inheritance',
 u'injureis',
 u'innocense',
 u'innocent',
 u'innocently',
 u'insanity',
 u'insuklting',
 u'intelligent',
 u'interested',
 u'interesting',
 u'internet',
 u'interruption',
 u'intersting',
 u'interview',
 u'invention',
 u'invisiable',
 u'invisible',
 u'inviting',
 u'involved',
 u'involves',
 u'italians',
 u'jajajaaa',
 u'japanese',
 u'jerimiah',
 u'jerkettes',
 u'jucilicious',
 u'jujubees',
 u'kentucky',
 u'keyboard',
 u'kidnaped',
 u'killeded',
 u'knuckles',
 u'lambergini',
 u'lamborghini',
 u'lamborgini',
 u'laterssss',
 u'laughing',
 u'lavendar',
 u'ldskdlsf',
 u'lipstick',
 u'listenin',
 u'listening',
 u'litening',
 u'literature',
 u'lllllllliiiiiiiiiikeee',
 u'llloooozzzzeeerrrrzzzzzzzzzzzzzzzzzzzzzzzzzzzzzzzzzzzzzzzzzzzzzzzzz',
 u'lmaooooo',
 u'lolololll',
 u'louisianna',
 u'lovelies',
 u'loveliest',
 u'lucifuge',
 u'lucy-fur',
 u'maidstone',
 u'mainland',
 u'manhattan',
 u'maniacal',
 u'margarita',
 u'marriage',
 u"martini's",
 u'martinis',
 u'maryland',
 u'massaged',
 u'masturbating',
 u'medicine',
 u'meeeeeeeeeeeee',
 u'memories',
 u'mercedes',
 u'meredith',
 u'messages',
 u'messenger',
 u'metallica',
 u'mexicans',
 u'michigan',
 u'microwave',
 u'miiiiiiiiiiiiinnnnnnnnnnneeeeeeeeee',
 u'miiiiiinnnnnnnnnneeeeeeee',
 u'mikeeeeeeeeeeeeeeeeeeeeeeeeee',
 u'minigames',
 u'minister',
 u'misbeahve',
 u'misbehaving',
 u'mmmmmmmmiiiiiiiiinnnnnnnnneeeeeeee',
 u'mmmmmmmmmm',
 u'mmmmmmmmmmmmm',
 u'mmmmmmmmmmmmmm',
 u'moderation',
 u'monsters',
 u'moochhhhhhhhh',
 u'morbidly',
 u'mountain',
 u'muahhhhh',
 u'muahssssssssssssssss',
 u'muahsssssssssssssssssss',
 u'muahzzzz',
 u'multitasking',
 u'myspace.com',
 u'national',
 u'nationality',
 u'naughtier',
 u'nebraska',
 u'necklace',
 u'necromancers',
 u'neighbor',
 u'neighborhood',
 u'neverneverland',
 u'newspaper',
 u'nickelback',
 u'nickleback',
 u'nickname',
 u'nicnames',
 u'niteeeeeeeeeeeeeeeeeee',
 u'non-smoker',
 u'nonsense',
 u'noooooooooo',
 u'noooooooooooooo',
 u'nortenos',
 u'nostrils',
 u'obsession',
 u'obviously',
 u'occasional',
 u'offended',
 u'offensive',
 u'official',
 u'ohhhhhhhhhhhhhhhh',
 u'oklahoma',
 u'ontrobution',
 u'oooOOOOoooo',
 u'oooooooooooglyyyyyyyy',
 u'oooooooooooo',
 u'oooooooooooooonnnnnnnnnnnneeeeeeeeeeeeeeesssssssss',
 u'ooopppps',
 u'ooperative',
 u'operator',
 u'oppertunity',
 u'opportunity',
 u'opposite',
 u'original',
 u'originally',
 u'outhouse',
 u'outrageously',
 u'overplaying',
 u'overtime',
 u'oxymoron',
 u'p u s s y',
 u'paitently',
 u'paragraph',
 u'paragraphs',
 u'particular',
 u'passionately',
 u'pathetic',
 u'peace-and-quiet',
 u'pedofile',
 u'peppersteak',
 u'perfectionist',
 u'periodically',
 u'permanent',
 u'permission',
 u'personal',
 u'perverted',
 u'petanmart',
 u'petition',
 u'petunias',
 u'photshopped',
 u'phylosipher',
 u'physical',
 u'physically',
 u'pictured',
 u'pictures',
 u'pineapple',
 u'pineapples',
 u'platform',
 u'playstation',
 u'pleaseeeee',
 u'pointing',
 u'politely',
 u'political',
 u'politics',
 u'polllution',
 u'poooland',
 u'position',
 u'possibly',
 u'ppolitical',
 u'pppppppppppew',
 u'practically',
 u'predicted',
 u'preference',
 u'preoccupied',
 u'priorities',
 u'prisoner',
 u'prisoners',
 u'prittier',
 u'probably',
 u'problemo',
 u'problems',
 u'profiles',
 u'profilrs',
 u'progressive',
 u'promoter',
 u'proocessing',
 u'psychologist',
 u'puhleaze',
 u'pumpkins',
 u'punishment',
 u'question',
 u'questioned',
 u'questions',
 u'quistion',
 u'qwertyuiop',
 u'raaaaaaaaaaaaaaaaaaaaaaaaaaaaa',
 u'raarrrrrr',
 u're-think',
 u're-thinking',
 u're-thinks',
 u'realises',
 u'recently',
 u'receprion',
 u'recognize',
 u'recomend',
 u'recovering',
 u'redirect',
 u'refrains',
 u'regarding',
 u'registration',
 u'regularly',
 u'relation',
 u'religion',
 u'remembah',
 u'remember',
 u'rememberer',
 u'remembers',
 u'reminded',
 u'reminder',
 u'removing',
 u'repeating',
 u'reproduce',
 u'republican',
 u'reschedual',
 u'research',
 u'resisting',
 u'retahhhhded',
 u'retarded',
 u'rethinks',
 u'reunion.',
 u'revolving',
 u'riiiight',
 u'riiiiight',
 u'ringtones',
 u'riverside',
 u'roleplay',
 u'romantic',
 u'rotflmao',
 u'salvation',
 u'saratoga',
 u'satisfie',
 u'saunders',
 u'scarecrow',
 u'schedule',
 u'schmoopies',
 u'scintillating',
 u'scorpion',
 u'scorpions',
 u'scrabble',
 u'scramble',
 u'scrambled',
 u"scrollin'",
 u'scusezzy',
 u'sdlfkjsj',
 u'seagulls',
 u'searching',
 u'seconds.',
 u'seminilla',
 u'senseless',
 u'sensitive',
 u'sentences',
 u'seriously',
 u'sevendust',
 u'sexuality',
 u'sheepishly',
 u"shinnin'",
 u'shopgirl',
 u'shortage',
 u'shoulders',
 u'shouldnt',
 u'shouldve',
 u'shouting',
 u'showered',
 u'situation',
 u'skateboard',
 u'skydiving',
 u'sldfjlsdf',
 u'sleep over',
 u'sleeping',
 u'sleepover',
 u'slipping',
 u'slkfjsldkfjs',
 u'sluggish',
 u'smallfry',
 u'smewchies',
 u'snickers',
 u'snuggles',
 u'softener',
 u'software',
 u'solution',
 u'somebody',
 u'something',
 u'sometime',
 u'sometimes',
 u'somewhere',
 u'soothing',
 u'soybeans',
 u'speaking',
 u'specalily',
 u'specialist',
 u'specially',
 u'specials',
 u'spelling',
 u'spending',
 u'splelnig',
 u'splinter',
 u'standing',
 u'starting',
 u'stationed',
 u'stealing',
 u'sticking',
 u'straight',
 u'straightens',
 u'stranger',
 u'strangers',
 u'streched',
 u'streetcar',
 u'stressed',
 u'stretches',
 u'strickly',
 u'stripper',
 u'stubborn',
 u"stuffin'",
 u'subscription',
 u'subscriptions',
 u'subsitute',
 u'suggested',
 u'suggestions',
 u'sullivan',
 u'sunglasses',
 u'sunshine',
 u'superhiway',
 u'superior',
 u'superman',
 u'supervisor',
 u'supposed',
 ...]

In [139]:

fdist6 = FreqDist(text6) #vocab = set(text6)
sorted(word for word in set(text6) if len(word) > 10 and fdist6[word] > 7 )

Out[139]:

[u'BRIDGEKEEPER']

In [140]:

len(set(text1))

Out[140]:

19317

In [141]:

len(set(word.lower() for word in text1))

Out[141]:

17231

In [142]:

text6

Out[142]:

<Text: Monty Python and the Holy Grail>

In [143]:

!ls

NLTKlearning.ipynb  UMA_Fraser_Radio_Talks.zip	nltk_data

In [144]:

!unzip UMA_Fraser_Radio_Talks.zip

Archive:  UMA_Fraser_Radio_Talks.zip
  inflating: UMA_Fraser_Radio_Talks/UDS2013680-100-full.txt  
  inflating: UMA_Fraser_Radio_Talks/UDS2013680-101-full.txt  
  inflating: UMA_Fraser_Radio_Talks/UDS2013680-102-full.txt  
  inflating: UMA_Fraser_Radio_Talks/UDS2013680-103-full.txt  
  inflating: UMA_Fraser_Radio_Talks/UDS2013680-104-full.txt  
  inflating: UMA_Fraser_Radio_Talks/UDS2013680-105-full.txt  
  inflating: UMA_Fraser_Radio_Talks/UDS2013680-106-full.txt  
  inflating: UMA_Fraser_Radio_Talks/UDS2013680-107-full.txt  
  inflating: UMA_Fraser_Radio_Talks/UDS2013680-108-full.txt  
  inflating: UMA_Fraser_Radio_Talks/UDS2013680-109-full.txt  
  inflating: UMA_Fraser_Radio_Talks/UDS2013680-10-full.txt  
  inflating: UMA_Fraser_Radio_Talks/UDS2013680-110-full.txt  
  inflating: UMA_Fraser_Radio_Talks/UDS2013680-111-full.txt  
  inflating: UMA_Fraser_Radio_Talks/UDS2013680-112-full.txt  
  inflating: UMA_Fraser_Radio_Talks/UDS2013680-113-full.txt  
  inflating: UMA_Fraser_Radio_Talks/UDS2013680-114-full.txt  
  inflating: UMA_Fraser_Radio_Talks/UDS2013680-115-full.txt  
  inflating: UMA_Fraser_Radio_Talks/UDS2013680-116-full.txt  
  inflating: UMA_Fraser_Radio_Talks/UDS2013680-117-full.txt  
  inflating: UMA_Fraser_Radio_Talks/UDS2013680-118-full.txt  
  inflating: UMA_Fraser_Radio_Talks/UDS2013680-119-full.txt  
  inflating: UMA_Fraser_Radio_Talks/UDS2013680-11-full.txt  
  inflating: UMA_Fraser_Radio_Talks/UDS2013680-120-full.txt  
  inflating: UMA_Fraser_Radio_Talks/UDS2013680-121-full.txt  
  inflating: UMA_Fraser_Radio_Talks/UDS2013680-122-full.txt  
  inflating: UMA_Fraser_Radio_Talks/UDS2013680-123-full.txt  
  inflating: UMA_Fraser_Radio_Talks/UDS2013680-124-full.txt  
  inflating: UMA_Fraser_Radio_Talks/UDS2013680-125-full.txt  
  inflating: UMA_Fraser_Radio_Talks/UDS2013680-126-full.txt  
  inflating: UMA_Fraser_Radio_Talks/UDS2013680-127-full.txt  
  inflating: UMA_Fraser_Radio_Talks/UDS2013680-128-full.txt  
  inflating: UMA_Fraser_Radio_Talks/UDS2013680-129-full.txt  
  inflating: UMA_Fraser_Radio_Talks/UDS2013680-12-full.txt  
  inflating: UMA_Fraser_Radio_Talks/UDS2013680-130-full.txt  
  inflating: UMA_Fraser_Radio_Talks/UDS2013680-131-full.txt  
  inflating: UMA_Fraser_Radio_Talks/UDS2013680-132-full.txt  
  inflating: UMA_Fraser_Radio_Talks/UDS2013680-133-full.txt  
  inflating: UMA_Fraser_Radio_Talks/UDS2013680-134-full.txt  
  inflating: UMA_Fraser_Radio_Talks/UDS2013680-135-full.txt  
  inflating: UMA_Fraser_Radio_Talks/UDS2013680-136-full.txt  
  inflating: UMA_Fraser_Radio_Talks/UDS2013680-137-full.txt  
  inflating: UMA_Fraser_Radio_Talks/UDS2013680-138-full.txt  
  inflating: UMA_Fraser_Radio_Talks/UDS2013680-139-full.txt  
  inflating: UMA_Fraser_Radio_Talks/UDS2013680-13-full.txt  
  inflating: UMA_Fraser_Radio_Talks/UDS2013680-140-full.txt  
  inflating: UMA_Fraser_Radio_Talks/UDS2013680-141-full.txt  
  inflating: UMA_Fraser_Radio_Talks/UDS2013680-142-full.txt  
  inflating: UMA_Fraser_Radio_Talks/UDS2013680-144-full.txt  
  inflating: UMA_Fraser_Radio_Talks/UDS2013680-145-full.txt  
  inflating: UMA_Fraser_Radio_Talks/UDS2013680-146-full.txt  
  inflating: UMA_Fraser_Radio_Talks/UDS2013680-147-full.txt  
  inflating: UMA_Fraser_Radio_Talks/UDS2013680-148-full.txt  
  inflating: UMA_Fraser_Radio_Talks/UDS2013680-14-full.txt  
  inflating: UMA_Fraser_Radio_Talks/UDS2013680-150-full.txt  
  inflating: UMA_Fraser_Radio_Talks/UDS2013680-151-full.txt  
  inflating: UMA_Fraser_Radio_Talks/UDS2013680-152-full.txt  
  inflating: UMA_Fraser_Radio_Talks/UDS2013680-153-full.txt  
  inflating: UMA_Fraser_Radio_Talks/UDS2013680-154-full.txt  
  inflating: UMA_Fraser_Radio_Talks/UDS2013680-155-full.txt  
  inflating: UMA_Fraser_Radio_Talks/UDS2013680-156-full.txt  
  inflating: UMA_Fraser_Radio_Talks/UDS2013680-157-full.txt  
  inflating: UMA_Fraser_Radio_Talks/UDS2013680-158-full.txt  
  inflating: UMA_Fraser_Radio_Talks/UDS2013680-159-full.txt  
  inflating: UMA_Fraser_Radio_Talks/UDS2013680-15-full.txt  
  inflating: UMA_Fraser_Radio_Talks/UDS2013680-160-full.txt  
  inflating: UMA_Fraser_Radio_Talks/UDS2013680-161-full.txt  
  inflating: UMA_Fraser_Radio_Talks/UDS2013680-162-full.txt  
  inflating: UMA_Fraser_Radio_Talks/UDS2013680-163-full.txt  
  inflating: UMA_Fraser_Radio_Talks/UDS2013680-164-full.txt  
  inflating: UMA_Fraser_Radio_Talks/UDS2013680-165-full.txt  
  inflating: UMA_Fraser_Radio_Talks/UDS2013680-166-full.txt  
  inflating: UMA_Fraser_Radio_Talks/UDS2013680-167-full.txt  
  inflating: UMA_Fraser_Radio_Talks/UDS2013680-168-full.txt  
  inflating: UMA_Fraser_Radio_Talks/UDS2013680-169-full.txt  
  inflating: UMA_Fraser_Radio_Talks/UDS2013680-16-full.txt  
  inflating: UMA_Fraser_Radio_Talks/UDS2013680-170-full.txt  
  inflating: UMA_Fraser_Radio_Talks/UDS2013680-171-full.txt  
  inflating: UMA_Fraser_Radio_Talks/UDS2013680-172-full.txt  
  inflating: UMA_Fraser_Radio_Talks/UDS2013680-173-full.txt  
  inflating: UMA_Fraser_Radio_Talks/UDS2013680-174-full.txt  
  inflating: UMA_Fraser_Radio_Talks/UDS2013680-175-full.txt  
  inflating: UMA_Fraser_Radio_Talks/UDS2013680-176-full.txt  
  inflating: UMA_Fraser_Radio_Talks/UDS2013680-177-full.txt  
  inflating: UMA_Fraser_Radio_Talks/UDS2013680-178-full.txt  
  inflating: UMA_Fraser_Radio_Talks/UDS2013680-179-full.txt  
  inflating: UMA_Fraser_Radio_Talks/UDS2013680-17-full.txt  
  inflating: UMA_Fraser_Radio_Talks/UDS2013680-180-full.txt  
  inflating: UMA_Fraser_Radio_Talks/UDS2013680-181-full.txt  
  inflating: UMA_Fraser_Radio_Talks/UDS2013680-182-full.txt  
  inflating: UMA_Fraser_Radio_Talks/UDS2013680-183-full.txt  
  inflating: UMA_Fraser_Radio_Talks/UDS2013680-184-full.txt  
  inflating: UMA_Fraser_Radio_Talks/UDS2013680-185-full.txt  
  inflating: UMA_Fraser_Radio_Talks/UDS2013680-186-full.txt  
  inflating: UMA_Fraser_Radio_Talks/UDS2013680-187-full.txt  
  inflating: UMA_Fraser_Radio_Talks/UDS2013680-188-full.txt  
  inflating: UMA_Fraser_Radio_Talks/UDS2013680-189-full.txt  
  inflating: UMA_Fraser_Radio_Talks/UDS2013680-18-full.txt  
  inflating: UMA_Fraser_Radio_Talks/UDS2013680-190-full.txt  
  inflating: UMA_Fraser_Radio_Talks/UDS2013680-191-full.txt  
  inflating: UMA_Fraser_Radio_Talks/UDS2013680-192-full.txt  
  inflating: UMA_Fraser_Radio_Talks/UDS2013680-193-full.txt  
  inflating: UMA_Fraser_Radio_Talks/UDS2013680-194-full.txt  
  inflating: UMA_Fraser_Radio_Talks/UDS2013680-195-full.txt  
  inflating: UMA_Fraser_Radio_Talks/UDS2013680-196-full.txt  
  inflating: UMA_Fraser_Radio_Talks/UDS2013680-197-full.txt  
  inflating: UMA_Fraser_Radio_Talks/UDS2013680-198-full.txt  
  inflating: UMA_Fraser_Radio_Talks/UDS2013680-199-full.txt  
  inflating: UMA_Fraser_Radio_Talks/UDS2013680-19-full.txt  
  inflating: UMA_Fraser_Radio_Talks/UDS2013680-1-full.txt  
  inflating: UMA_Fraser_Radio_Talks/UDS2013680-200-full.txt  
  inflating: UMA_Fraser_Radio_Talks/UDS2013680-201-full.txt  
  inflating: UMA_Fraser_Radio_Talks/UDS2013680-202-full.txt  
  inflating: UMA_Fraser_Radio_Talks/UDS2013680-203-full.txt  
  inflating: UMA_Fraser_Radio_Talks/UDS2013680-204-full.txt  
  inflating: UMA_Fraser_Radio_Talks/UDS2013680-205-full.txt  
  inflating: UMA_Fraser_Radio_Talks/UDS2013680-206-full.txt  
  inflating: UMA_Fraser_Radio_Talks/UDS2013680-207-full.txt  
  inflating: UMA_Fraser_Radio_Talks/UDS2013680-208-full.txt  
  inflating: UMA_Fraser_Radio_Talks/UDS2013680-209-full.txt  
  inflating: UMA_Fraser_Radio_Talks/UDS2013680-20-full.txt  
  inflating: UMA_Fraser_Radio_Talks/UDS2013680-210-full.txt  
  inflating: UMA_Fraser_Radio_Talks/UDS2013680-211-full.txt  
  inflating: UMA_Fraser_Radio_Talks/UDS2013680-212-full.txt  
  inflating: UMA_Fraser_Radio_Talks/UDS2013680-213-full.txt  
  inflating: UMA_Fraser_Radio_Talks/UDS2013680-214-full.txt  
  inflating: UMA_Fraser_Radio_Talks/UDS2013680-215-full.txt  
  inflating: UMA_Fraser_Radio_Talks/UDS2013680-216-full.txt  
  inflating: UMA_Fraser_Radio_Talks/UDS2013680-217-full.txt  
  inflating: UMA_Fraser_Radio_Talks/UDS2013680-218-full.txt  
  inflating: UMA_Fraser_Radio_Talks/UDS2013680-219-full.txt  
  inflating: UMA_Fraser_Radio_Talks/UDS2013680-21-full.txt  
  inflating: UMA_Fraser_Radio_Talks/UDS2013680-220-full.txt  
  inflating: UMA_Fraser_Radio_Talks/UDS2013680-221-full.txt  
  inflating: UMA_Fraser_Radio_Talks/UDS2013680-222-full.txt  
  inflating: UMA_Fraser_Radio_Talks/UDS2013680-223-full.txt  
  inflating: UMA_Fraser_Radio_Talks/UDS2013680-224-full.txt  
  inflating: UMA_Fraser_Radio_Talks/UDS2013680-225-full.txt  
  inflating: UMA_Fraser_Radio_Talks/UDS2013680-226-full.txt  
  inflating: UMA_Fraser_Radio_Talks/UDS2013680-227-full.txt  
  inflating: UMA_Fraser_Radio_Talks/UDS2013680-228-full.txt  
  inflating: UMA_Fraser_Radio_Talks/UDS2013680-229-full.txt  
  inflating: UMA_Fraser_Radio_Talks/UDS2013680-22-full.txt  
  inflating: UMA_Fraser_Radio_Talks/UDS2013680-230-full.txt  
  inflating: UMA_Fraser_Radio_Talks/UDS2013680-231-full.txt  
  inflating: UMA_Fraser_Radio_Talks/UDS2013680-232-full.txt  
  inflating: UMA_Fraser_Radio_Talks/UDS2013680-233-full.txt  
  inflating: UMA_Fraser_Radio_Talks/UDS2013680-234-full.txt  
  inflating: UMA_Fraser_Radio_Talks/UDS2013680-235-full.txt  
  inflating: UMA_Fraser_Radio_Talks/UDS2013680-236-full.txt  
  inflating: UMA_Fraser_Radio_Talks/UDS2013680-237-full.txt  
  inflating: UMA_Fraser_Radio_Talks/UDS2013680-238-full.txt  
  inflating: UMA_Fraser_Radio_Talks/UDS2013680-239-full.txt  
  inflating: UMA_Fraser_Radio_Talks/UDS2013680-23-full.txt  
  inflating: UMA_Fraser_Radio_Talks/UDS2013680-240-full.txt  
  inflating: UMA_Fraser_Radio_Talks/UDS2013680-241-full.txt  
  inflating: UMA_Fraser_Radio_Talks/UDS2013680-242-full.txt  
  inflating: UMA_Fraser_Radio_Talks/UDS2013680-243-full.txt  
  inflating: UMA_Fraser_Radio_Talks/UDS2013680-244-full.txt  
  inflating: UMA_Fraser_Radio_Talks/UDS2013680-245-full.txt  
  inflating: UMA_Fraser_Radio_Talks/UDS2013680-246-full.txt  
  inflating: UMA_Fraser_Radio_Talks/UDS2013680-247-full.txt  
  inflating: UMA_Fraser_Radio_Talks/UDS2013680-248-full.txt  
  inflating: UMA_Fraser_Radio_Talks/UDS2013680-249-full.txt  
  inflating: UMA_Fraser_Radio_Talks/UDS2013680-24-full.txt  
  inflating: UMA_Fraser_Radio_Talks/UDS2013680-250-full.txt  
  inflating: UMA_Fraser_Radio_Talks/UDS2013680-251-full.txt  
  inflating: UMA_Fraser_Radio_Talks/UDS2013680-252-full.txt  
  inflating: UMA_Fraser_Radio_Talks/UDS2013680-253-full.txt  
  inflating: UMA_Fraser_Radio_Talks/UDS2013680-254-full.txt  
  inflating: UMA_Fraser_Radio_Talks/UDS2013680-255-full.txt  
  inflating: UMA_Fraser_Radio_Talks/UDS2013680-256-full.txt  
  inflating: UMA_Fraser_Radio_Talks/UDS2013680-257-full.txt  
  inflating: UMA_Fraser_Radio_Talks/UDS2013680-258-full.txt  
  inflating: UMA_Fraser_Radio_Talks/UDS2013680-259-full.txt  
  inflating: UMA_Fraser_Radio_Talks/UDS2013680-25-full.txt  
  inflating: UMA_Fraser_Radio_Talks/UDS2013680-260-full.txt  
  inflating: UMA_Fraser_Radio_Talks/UDS2013680-261-full.txt  
  inflating: UMA_Fraser_Radio_Talks/UDS2013680-262-full.txt  
  inflating: UMA_Fraser_Radio_Talks/UDS2013680-263-full.txt  
  inflating: UMA_Fraser_Radio_Talks/UDS2013680-264-full.txt  
  inflating: UMA_Fraser_Radio_Talks/UDS2013680-265-full.txt  
  inflating: UMA_Fraser_Radio_Talks/UDS2013680-266-full.txt  
  inflating: UMA_Fraser_Radio_Talks/UDS2013680-267-full.txt  
  inflating: UMA_Fraser_Radio_Talks/UDS2013680-268-full.txt  
  inflating: UMA_Fraser_Radio_Talks/UDS2013680-269-full.txt  
  inflating: UMA_Fraser_Radio_Talks/UDS2013680-26-full.txt  
  inflating: UMA_Fraser_Radio_Talks/UDS2013680-270-full.txt  
  inflating: UMA_Fraser_Radio_Talks/UDS2013680-271-full.txt  
  inflating: UMA_Fraser_Radio_Talks/UDS2013680-272-full.txt  
  inflating: UMA_Fraser_Radio_Talks/UDS2013680-273-full.txt  
  inflating: UMA_Fraser_Radio_Talks/UDS2013680-274-full.txt  
  inflating: UMA_Fraser_Radio_Talks/UDS2013680-275-full.txt  
  inflating: UMA_Fraser_Radio_Talks/UDS2013680-276-full.txt  
  inflating: UMA_Fraser_Radio_Talks/UDS2013680-277-full.txt  
  inflating: UMA_Fraser_Radio_Talks/UDS2013680-278-full.txt  
  inflating: UMA_Fraser_Radio_Talks/UDS2013680-279-full.txt  
  inflating: UMA_Fraser_Radio_Talks/UDS2013680-27-full.txt  
  inflating: UMA_Fraser_Radio_Talks/UDS2013680-280-full.txt  
  inflating: UMA_Fraser_Radio_Talks/UDS2013680-281-full.txt  
  inflating: UMA_Fraser_Radio_Talks/UDS2013680-282-full.txt  
  inflating: UMA_Fraser_Radio_Talks/UDS2013680-283-full.txt  
  inflating: UMA_Fraser_Radio_Talks/UDS2013680-284-full.txt  
  inflating: UMA_Fraser_Radio_Talks/UDS2013680-285-full.txt  
  inflating: UMA_Fraser_Radio_Talks/UDS2013680-286-full.txt  
  inflating: UMA_Fraser_Radio_Talks/UDS2013680-287-full.txt  
  inflating: UMA_Fraser_Radio_Talks/UDS2013680-288-full.txt  
  inflating: UMA_Fraser_Radio_Talks/UDS2013680-289-full.txt  
  inflating: UMA_Fraser_Radio_Talks/UDS2013680-28-full.txt  
  inflating: UMA_Fraser_Radio_Talks/UDS2013680-290-full.txt  
  inflating: UMA_Fraser_Radio_Talks/UDS2013680-291-full.txt  
  inflating: UMA_Fraser_Radio_Talks/UDS2013680-292-full.txt  
  inflating: UMA_Fraser_Radio_Talks/UDS2013680-293-full.txt  
  inflating: UMA_Fraser_Radio_Talks/UDS2013680-294-full.txt  
  inflating: UMA_Fraser_Radio_Talks/UDS2013680-295-full.txt  
  inflating: UMA_Fraser_Radio_Talks/UDS2013680-296-full.txt  
  inflating: UMA_Fraser_Radio_Talks/UDS2013680-297-full.txt  
  inflating: UMA_Fraser_Radio_Talks/UDS2013680-298-full.txt  
  inflating: UMA_Fraser_Radio_Talks/UDS2013680-299-full.txt  
  inflating: UMA_Fraser_Radio_Talks/UDS2013680-29-full.txt  
  inflating: UMA_Fraser_Radio_Talks/UDS2013680-2-full.txt  
  inflating: UMA_Fraser_Radio_Talks/UDS2013680-300-full.txt  
  inflating: UMA_Fraser_Radio_Talks/UDS2013680-301-full.txt  
  inflating: UMA_Fraser_Radio_Talks/UDS2013680-302-full.txt  
  inflating: UMA_Fraser_Radio_Talks/UDS2013680-303-full.txt  
  inflating: UMA_Fraser_Radio_Talks/UDS2013680-304-full.txt  
  inflating: UMA_Fraser_Radio_Talks/UDS2013680-305-full.txt  
  inflating: UMA_Fraser_Radio_Talks/UDS2013680-306-full.txt  
  inflating: UMA_Fraser_Radio_Talks/UDS2013680-307-full.txt  
  inflating: UMA_Fraser_Radio_Talks/UDS2013680-308-full.txt  
  inflating: UMA_Fraser_Radio_Talks/UDS2013680-309-full.txt  
  inflating: UMA_Fraser_Radio_Talks/UDS2013680-30-full.txt  
  inflating: UMA_Fraser_Radio_Talks/UDS2013680-310-full.txt  
  inflating: UMA_Fraser_Radio_Talks/UDS2013680-311-full.txt  
  inflating: UMA_Fraser_Radio_Talks/UDS2013680-312-full.txt  
  inflating: UMA_Fraser_Radio_Talks/UDS2013680-313-full.txt  
  inflating: UMA_Fraser_Radio_Talks/UDS2013680-314-full.txt  
  inflating: UMA_Fraser_Radio_Talks/UDS2013680-315-full.txt  
  inflating: UMA_Fraser_Radio_Talks/UDS2013680-316-full.txt  
  inflating: UMA_Fraser_Radio_Talks/UDS2013680-317-full.txt  
  inflating: UMA_Fraser_Radio_Talks/UDS2013680-318-full.txt  
  inflating: UMA_Fraser_Radio_Talks/UDS2013680-319-full.txt  
  inflating: UMA_Fraser_Radio_Talks/UDS2013680-31-full.txt  
  inflating: UMA_Fraser_Radio_Talks/UDS2013680-320-full.txt  
  inflating: UMA_Fraser_Radio_Talks/UDS2013680-321-full.txt  
  inflating: UMA_Fraser_Radio_Talks/UDS2013680-322-full.txt  
  inflating: UMA_Fraser_Radio_Talks/UDS2013680-323-full.txt  
  inflating: UMA_Fraser_Radio_Talks/UDS2013680-324-full.txt  
  inflating: UMA_Fraser_Radio_Talks/UDS2013680-325-full.txt  
  inflating: UMA_Fraser_Radio_Talks/UDS2013680-326-full.txt  
  inflating: UMA_Fraser_Radio_Talks/UDS2013680-327-full.txt  
  inflating: UMA_Fraser_Radio_Talks/UDS2013680-328-full.txt  
  inflating: UMA_Fraser_Radio_Talks/UDS2013680-329-full.txt  
  inflating: UMA_Fraser_Radio_Talks/UDS2013680-32-full.txt  
  inflating: UMA_Fraser_Radio_Talks/UDS2013680-330-full.txt  
  inflating: UMA_Fraser_Radio_Talks/UDS2013680-331-full.txt  
  inflating: UMA_Fraser_Radio_Talks/UDS2013680-332-full.txt  
  inflating: UMA_Fraser_Radio_Talks/UDS2013680-335-full.txt  
  inflating: UMA_Fraser_Radio_Talks/UDS2013680-336-full.txt  
  inflating: UMA_Fraser_Radio_Talks/UDS2013680-337-full.txt  
  inflating: UMA_Fraser_Radio_Talks/UDS2013680-338-full.txt  
  inflating: UMA_Fraser_Radio_Talks/UDS2013680-339-full.txt  
  inflating: UMA_Fraser_Radio_Talks/UDS2013680-33-full.txt  
  inflating: UMA_Fraser_Radio_Talks/UDS2013680-340-full.txt  
  inflating: UMA_Fraser_Radio_Talks/UDS2013680-341-full.txt  
  inflating: UMA_Fraser_Radio_Talks/UDS2013680-342-full.txt  
  inflating: UMA_Fraser_Radio_Talks/UDS2013680-343-full.txt  
  inflating: UMA_Fraser_Radio_Talks/UDS2013680-344-full.txt  
  inflating: UMA_Fraser_Radio_Talks/UDS2013680-345-full.txt  
  inflating: UMA_Fraser_Radio_Talks/UDS2013680-346-full.txt  
  inflating: UMA_Fraser_Radio_Talks/UDS2013680-347-full.txt  
  inflating: UMA_Fraser_Radio_Talks/UDS2013680-348-full.txt  
  inflating: UMA_Fraser_Radio_Talks/UDS2013680-349-full.txt  
  inflating: UMA_Fraser_Radio_Talks/UDS2013680-34-full.txt  
  inflating: UMA_Fraser_Radio_Talks/UDS2013680-350-full.txt  
  inflating: UMA_Fraser_Radio_Talks/UDS2013680-351-full.txt  
  inflating: UMA_Fraser_Radio_Talks/UDS2013680-352-full.txt  
  inflating: UMA_Fraser_Radio_Talks/UDS2013680-353-full.txt  
  inflating: UMA_Fraser_Radio_Talks/UDS2013680-354-full.txt  
  inflating: UMA_Fraser_Radio_Talks/UDS2013680-355-full.txt  
  inflating: UMA_Fraser_Radio_Talks/UDS2013680-356-full.txt  
  inflating: UMA_Fraser_Radio_Talks/UDS2013680-357-full.txt  
  inflating: UMA_Fraser_Radio_Talks/UDS2013680-358-full.txt  
  inflating: UMA_Fraser_Radio_Talks/UDS2013680-359-full.txt  
  inflating: UMA_Fraser_Radio_Talks/UDS2013680-35-full.txt  
  inflating: UMA_Fraser_Radio_Talks/UDS2013680-360-full.txt  
  inflating: UMA_Fraser_Radio_Talks/UDS2013680-361-full.txt  
  inflating: UMA_Fraser_Radio_Talks/UDS2013680-362-full.txt  
  inflating: UMA_Fraser_Radio_Talks/UDS2013680-363-full.txt  
  inflating: UMA_Fraser_Radio_Talks/UDS2013680-364-full.txt  
  inflating: UMA_Fraser_Radio_Talks/UDS2013680-367-full.txt  
  inflating: UMA_Fraser_Radio_Talks/UDS2013680-368-full.txt  
  inflating: UMA_Fraser_Radio_Talks/UDS2013680-369-full.txt  
  inflating: UMA_Fraser_Radio_Talks/UDS2013680-36-full.txt  
  inflating: UMA_Fraser_Radio_Talks/UDS2013680-370-full.txt  
  inflating: UMA_Fraser_Radio_Talks/UDS2013680-371-full.txt  
  inflating: UMA_Fraser_Radio_Talks/UDS2013680-372-full.txt  
  inflating: UMA_Fraser_Radio_Talks/UDS2013680-373-full.txt  
  inflating: UMA_Fraser_Radio_Talks/UDS2013680-374-full.txt  
  inflating: UMA_Fraser_Radio_Talks/UDS2013680-375-full.txt  
  inflating: UMA_Fraser_Radio_Talks/UDS2013680-376-full.txt  
  inflating: UMA_Fraser_Radio_Talks/UDS2013680-377-full.txt  
  inflating: UMA_Fraser_Radio_Talks/UDS2013680-378-full.txt  
  inflating: UMA_Fraser_Radio_Talks/UDS2013680-379-full.txt  
  inflating: UMA_Fraser_Radio_Talks/UDS2013680-37-full.txt  
  inflating: UMA_Fraser_Radio_Talks/UDS2013680-380-full.txt  
  inflating: UMA_Fraser_Radio_Talks/UDS2013680-381-full.txt  
  inflating: UMA_Fraser_Radio_Talks/UDS2013680-382-full.txt  
  inflating: UMA_Fraser_Radio_Talks/UDS2013680-383-full.txt  
  inflating: UMA_Fraser_Radio_Talks/UDS2013680-384-full.txt  
  inflating: UMA_Fraser_Radio_Talks/UDS2013680-385-full.txt  
  inflating: UMA_Fraser_Radio_Talks/UDS2013680-387-full.txt  
  inflating: UMA_Fraser_Radio_Talks/UDS2013680-388-full.txt  
  inflating: UMA_Fraser_Radio_Talks/UDS2013680-389-full.txt  
  inflating: UMA_Fraser_Radio_Talks/UDS2013680-38-full.txt  
  inflating: UMA_Fraser_Radio_Talks/UDS2013680-390-full.txt  
  inflating: UMA_Fraser_Radio_Talks/UDS2013680-391-full.txt  
  inflating: UMA_Fraser_Radio_Talks/UDS2013680-392-full.txt  
  inflating: UMA_Fraser_Radio_Talks/UDS2013680-393-full.txt  
  inflating: UMA_Fraser_Radio_Talks/UDS2013680-394-full.txt  
  inflating: UMA_Fraser_Radio_Talks/UDS2013680-395-full.txt  
  inflating: UMA_Fraser_Radio_Talks/UDS2013680-396-full.txt  
  inflating: UMA_Fraser_Radio_Talks/UDS2013680-397-full.txt  
  inflating: UMA_Fraser_Radio_Talks/UDS2013680-398-full.txt  
  inflating: UMA_Fraser_Radio_Talks/UDS2013680-399-full.txt  
  inflating: UMA_Fraser_Radio_Talks/UDS2013680-39-full.txt  
  inflating: UMA_Fraser_Radio_Talks/UDS2013680-3-full.txt  
  inflating: UMA_Fraser_Radio_Talks/UDS2013680-400-full.txt  
  inflating: UMA_Fraser_Radio_Talks/UDS2013680-401-full.txt  
  inflating: UMA_Fraser_Radio_Talks/UDS2013680-402-full.txt  
  inflating: UMA_Fraser_Radio_Talks/UDS2013680-403-full.txt  
  inflating: UMA_Fraser_Radio_Talks/UDS2013680-404-full.txt  
  inflating: UMA_Fraser_Radio_Talks/UDS2013680-405-full.txt  
  inflating: UMA_Fraser_Radio_Talks/UDS2013680-406-full.txt  
  inflating: UMA_Fraser_Radio_Talks/UDS2013680-407-full.txt  
  inflating: UMA_Fraser_Radio_Talks/UDS2013680-408-full.txt  
  inflating: UMA_Fraser_Radio_Talks/UDS2013680-409-full.txt  
  inflating: UMA_Fraser_Radio_Talks/UDS2013680-40-full.txt  
  inflating: UMA_Fraser_Radio_Talks/UDS2013680-410-full.txt  
  inflating: UMA_Fraser_Radio_Talks/UDS2013680-411-full.txt  
  inflating: UMA_Fraser_Radio_Talks/UDS2013680-412-full.txt  
  inflating: UMA_Fraser_Radio_Talks/UDS2013680-413-full.txt  
  inflating: UMA_Fraser_Radio_Talks/UDS2013680-414-full.txt  
  inflating: UMA_Fraser_Radio_Talks/UDS2013680-415-full.txt  
  inflating: UMA_Fraser_Radio_Talks/UDS2013680-416-full.txt  
  inflating: UMA_Fraser_Radio_Talks/UDS2013680-417-full.txt  
  inflating: UMA_Fraser_Radio_Talks/UDS2013680-418-full.txt  
  inflating: UMA_Fraser_Radio_Talks/UDS2013680-419-full.txt  
  inflating: UMA_Fraser_Radio_Talks/UDS2013680-41-full.txt  
  inflating: UMA_Fraser_Radio_Talks/UDS2013680-420-full.txt  
  inflating: UMA_Fraser_Radio_Talks/UDS2013680-421-full.txt  
  inflating: UMA_Fraser_Radio_Talks/UDS2013680-422-full.txt  
  inflating: UMA_Fraser_Radio_Talks/UDS2013680-423-full.txt  
  inflating: UMA_Fraser_Radio_Talks/UDS2013680-424-full.txt  
  inflating: UMA_Fraser_Radio_Talks/UDS2013680-425-full.txt  
  inflating: UMA_Fraser_Radio_Talks/UDS2013680-426-full.txt  
  inflating: UMA_Fraser_Radio_Talks/UDS2013680-427-full.txt  
  inflating: UMA_Fraser_Radio_Talks/UDS2013680-428-full.txt  
  inflating: UMA_Fraser_Radio_Talks/UDS2013680-429-full.txt  
  inflating: UMA_Fraser_Radio_Talks/UDS2013680-42-full.txt  
  inflating: UMA_Fraser_Radio_Talks/UDS2013680-430-full.txt  
  inflating: UMA_Fraser_Radio_Talks/UDS2013680-431-full.txt  
  inflating: UMA_Fraser_Radio_Talks/UDS2013680-432-full.txt  
  inflating: UMA_Fraser_Radio_Talks/UDS2013680-433-full.txt  
  inflating: UMA_Fraser_Radio_Talks/UDS2013680-434-full.txt  
  inflating: UMA_Fraser_Radio_Talks/UDS2013680-435-full.txt  
  inflating: UMA_Fraser_Radio_Talks/UDS2013680-436-full.txt  
  inflating: UMA_Fraser_Radio_Talks/UDS2013680-437-full.txt  
  inflating: UMA_Fraser_Radio_Talks/UDS2013680-438-full.txt  
  inflating: UMA_Fraser_Radio_Talks/UDS2013680-439-full.txt  
  inflating: UMA_Fraser_Radio_Talks/UDS2013680-43-full.txt  
  inflating: UMA_Fraser_Radio_Talks/UDS2013680-440-full.txt  
  inflating: UMA_Fraser_Radio_Talks/UDS2013680-441-full.txt  
  inflating: UMA_Fraser_Radio_Talks/UDS2013680-442-full.txt  
  inflating: UMA_Fraser_Radio_Talks/UDS2013680-443-full.txt  
  inflating: UMA_Fraser_Radio_Talks/UDS2013680-444-full.txt  
  inflating: UMA_Fraser_Radio_Talks/UDS2013680-445-full.txt  
  inflating: UMA_Fraser_Radio_Talks/UDS2013680-446-full.txt  
  inflating: UMA_Fraser_Radio_Talks/UDS2013680-447-full.txt  
  inflating: UMA_Fraser_Radio_Talks/UDS2013680-448-full.txt  
  inflating: UMA_Fraser_Radio_Talks/UDS2013680-449-full.txt  
  inflating: UMA_Fraser_Radio_Talks/UDS2013680-44-full.txt  
  inflating: UMA_Fraser_Radio_Talks/UDS2013680-450-full.txt  
  inflating: UMA_Fraser_Radio_Talks/UDS2013680-451-full.txt  
  inflating: UMA_Fraser_Radio_Talks/UDS2013680-452-full.txt  
  inflating: UMA_Fraser_Radio_Talks/UDS2013680-453-full.txt  
  inflating: UMA_Fraser_Radio_Talks/UDS2013680-454-full.txt  
  inflating: UMA_Fraser_Radio_Talks/UDS2013680-455-full.txt  
  inflating: UMA_Fraser_Radio_Talks/UDS2013680-456-full.txt  
  inflating: UMA_Fraser_Radio_Talks/UDS2013680-457-full.txt  
  inflating: UMA_Fraser_Radio_Talks/UDS2013680-458-full.txt  
  inflating: UMA_Fraser_Radio_Talks/UDS2013680-459-full.txt  
  inflating: UMA_Fraser_Radio_Talks/UDS2013680-45-full.txt  
  inflating: UMA_Fraser_Radio_Talks/UDS2013680-460-full.txt  
  inflating: UMA_Fraser_Radio_Talks/UDS2013680-461-full.txt  
  inflating: UMA_Fraser_Radio_Talks/UDS2013680-462-full.txt  
  inflating: UMA_Fraser_Radio_Talks/UDS2013680-463-full.txt  
  inflating: UMA_Fraser_Radio_Talks/UDS2013680-464-full.txt  
  inflating: UMA_Fraser_Radio_Talks/UDS2013680-465-full.txt  
  inflating: UMA_Fraser_Radio_Talks/UDS2013680-466-full.txt  
  inflating: UMA_Fraser_Radio_Talks/UDS2013680-467-full.txt  
  inflating: UMA_Fraser_Radio_Talks/UDS2013680-468-full.txt  
  inflating: UMA_Fraser_Radio_Talks/UDS2013680-469-full.txt  
  inflating: UMA_Fraser_Radio_Talks/UDS2013680-46-full.txt  
  inflating: UMA_Fraser_Radio_Talks/UDS2013680-470-full.txt  
  inflating: UMA_Fraser_Radio_Talks/UDS2013680-471-full.txt  
  inflating: UMA_Fraser_Radio_Talks/UDS2013680-472-full.txt  
  inflating: UMA_Fraser_Radio_Talks/UDS2013680-473-full.txt  
  inflating: UMA_Fraser_Radio_Talks/UDS2013680-474-full.txt  
  inflating: UMA_Fraser_Radio_Talks/UDS2013680-475-full.txt  
  inflating: UMA_Fraser_Radio_Talks/UDS2013680-476-full.txt  
  inflating: UMA_Fraser_Radio_Talks/UDS2013680-477-full.txt  
  inflating: UMA_Fraser_Radio_Talks/UDS2013680-478-full.txt  
  inflating: UMA_Fraser_Radio_Talks/UDS2013680-479-full.txt  
  inflating: UMA_Fraser_Radio_Talks/UDS2013680-47-full.txt  
  inflating: UMA_Fraser_Radio_Talks/UDS2013680-480-full.txt  
  inflating: UMA_Fraser_Radio_Talks/UDS2013680-481-full.txt  
  inflating: UMA_Fraser_Radio_Talks/UDS2013680-482-full.txt  
  inflating: UMA_Fraser_Radio_Talks/UDS2013680-483-full.txt  
  inflating: UMA_Fraser_Radio_Talks/UDS2013680-484-full.txt  
  inflating: UMA_Fraser_Radio_Talks/UDS2013680-485-full.txt  
  inflating: UMA_Fraser_Radio_Talks/UDS2013680-486-full.txt  
  inflating: UMA_Fraser_Radio_Talks/UDS2013680-487-full.txt  
  inflating: UMA_Fraser_Radio_Talks/UDS2013680-488-full.txt  
  inflating: UMA_Fraser_Radio_Talks/UDS2013680-489-full.txt  
  inflating: UMA_Fraser_Radio_Talks/UDS2013680-48-full.txt  
  inflating: UMA_Fraser_Radio_Talks/UDS2013680-490-full.txt  
  inflating: UMA_Fraser_Radio_Talks/UDS2013680-491-full.txt  
  inflating: UMA_Fraser_Radio_Talks/UDS2013680-492-full.txt  
  inflating: UMA_Fraser_Radio_Talks/UDS2013680-493-full.txt  
  inflating: UMA_Fraser_Radio_Talks/UDS2013680-494-full.txt  
  inflating: UMA_Fraser_Radio_Talks/UDS2013680-495-full.txt  
  inflating: UMA_Fraser_Radio_Talks/UDS2013680-496-full.txt  
  inflating: UMA_Fraser_Radio_Talks/UDS2013680-497-full.txt  
  inflating: UMA_Fraser_Radio_Talks/UDS2013680-498-full.txt  
  inflating: UMA_Fraser_Radio_Talks/UDS2013680-499-full.txt  
  inflating: UMA_Fraser_Radio_Talks/UDS2013680-49-full.txt  
  inflating: UMA_Fraser_Radio_Talks/UDS2013680-4-full.txt  
  inflating: UMA_Fraser_Radio_Talks/UDS2013680-500-full.txt  
  inflating: UMA_Fraser_Radio_Talks/UDS2013680-501-full.txt  
  inflating: UMA_Fraser_Radio_Talks/UDS2013680-502-full.txt  
  inflating: UMA_Fraser_Radio_Talks/UDS2013680-503-full.txt  
  inflating: UMA_Fraser_Radio_Talks/UDS2013680-504-full.txt  
  inflating: UMA_Fraser_Radio_Talks/UDS2013680-505-full.txt  
  inflating: UMA_Fraser_Radio_Talks/UDS2013680-506-full.txt  
  inflating: UMA_Fraser_Radio_Talks/UDS2013680-507-full.txt  
  inflating: UMA_Fraser_Radio_Talks/UDS2013680-508-full.txt  
  inflating: UMA_Fraser_Radio_Talks/UDS2013680-509-full.txt  
  inflating: UMA_Fraser_Radio_Talks/UDS2013680-50-full.txt  
  inflating: UMA_Fraser_Radio_Talks/UDS2013680-510-full.txt  
  inflating: UMA_Fraser_Radio_Talks/UDS2013680-511-full.txt  
  inflating: UMA_Fraser_Radio_Talks/UDS2013680-512-full.txt  
  inflating: UMA_Fraser_Radio_Talks/UDS2013680-513-full.txt  
  inflating: UMA_Fraser_Radio_Talks/UDS2013680-514-full.txt  
  inflating: UMA_Fraser_Radio_Talks/UDS2013680-515-full.txt  
  inflating: UMA_Fraser_Radio_Talks/UDS2013680-516-full.txt  
  inflating: UMA_Fraser_Radio_Talks/UDS2013680-517-full.txt  
  inflating: UMA_Fraser_Radio_Talks/UDS2013680-518-full.txt  
  inflating: UMA_Fraser_Radio_Talks/UDS2013680-519-full.txt  
  inflating: UMA_Fraser_Radio_Talks/UDS2013680-51-full.txt  
  inflating: UMA_Fraser_Radio_Talks/UDS2013680-520-full.txt  
  inflating: UMA_Fraser_Radio_Talks/UDS2013680-521-full.txt  
  inflating: UMA_Fraser_Radio_Talks/UDS2013680-522-full.txt  
  inflating: UMA_Fraser_Radio_Talks/UDS2013680-523-full.txt  
  inflating: UMA_Fraser_Radio_Talks/UDS2013680-524-full.txt  
  inflating: UMA_Fraser_Radio_Talks/UDS2013680-525-full.txt  
  inflating: UMA_Fraser_Radio_Talks/UDS2013680-526-full.txt  
  inflating: UMA_Fraser_Radio_Talks/UDS2013680-527-full.txt  
  inflating: UMA_Fraser_Radio_Talks/UDS2013680-528-full.txt  
  inflating: UMA_Fraser_Radio_Talks/UDS2013680-529-full.txt  
  inflating: UMA_Fraser_Radio_Talks/UDS2013680-52-full.txt  
  inflating: UMA_Fraser_Radio_Talks/UDS2013680-530-full.txt  
  inflating: UMA_Fraser_Radio_Talks/UDS2013680-531-full.txt  
  inflating: UMA_Fraser_Radio_Talks/UDS2013680-532-full.txt  
  inflating: UMA_Fraser_Radio_Talks/UDS2013680-533-full.txt  
  inflating: UMA_Fraser_Radio_Talks/UDS2013680-534-full.txt  
  inflating: UMA_Fraser_Radio_Talks/UDS2013680-535-full.txt  
  inflating: UMA_Fraser_Radio_Talks/UDS2013680-536-full.txt  
  inflating: UMA_Fraser_Radio_Talks/UDS2013680-537-full.txt  
  inflating: UMA_Fraser_Radio_Talks/UDS2013680-538-full.txt  
  inflating: UMA_Fraser_Radio_Talks/UDS2013680-539-full.txt  
  inflating: UMA_Fraser_Radio_Talks/UDS2013680-53-full.txt  
  inflating: UMA_Fraser_Radio_Talks/UDS2013680-540-full.txt  
  inflating: UMA_Fraser_Radio_Talks/UDS2013680-541-full.txt  
  inflating: UMA_Fraser_Radio_Talks/UDS2013680-542-full.txt  
  inflating: UMA_Fraser_Radio_Talks/UDS2013680-543-full.txt  
  inflating: UMA_Fraser_Radio_Talks/UDS2013680-544-full.txt  
  inflating: UMA_Fraser_Radio_Talks/UDS2013680-545-full.txt  
  inflating: UMA_Fraser_Radio_Talks/UDS2013680-546-full.txt  
  inflating: UMA_Fraser_Radio_Talks/UDS2013680-547-full.txt  
  inflating: UMA_Fraser_Radio_Talks/UDS2013680-548-full.txt  
  inflating: UMA_Fraser_Radio_Talks/UDS2013680-549-full.txt  
  inflating: UMA_Fraser_Radio_Talks/UDS2013680-54-full.txt  
  inflating: UMA_Fraser_Radio_Talks/UDS2013680-550-full.txt  
  inflating: UMA_Fraser_Radio_Talks/UDS2013680-551-full.txt  
  inflating: UMA_Fraser_Radio_Talks/UDS2013680-552-full.txt  
  inflating: UMA_Fraser_Radio_Talks/UDS2013680-553-full.txt  
  inflating: UMA_Fraser_Radio_Talks/UDS2013680-554-full.txt  
  inflating: UMA_Fraser_Radio_Talks/UDS2013680-555-full.txt  
  inflating: UMA_Fraser_Radio_Talks/UDS2013680-556-full.txt  
  inflating: UMA_Fraser_Radio_Talks/UDS2013680-557-full.txt  
  inflating: UMA_Fraser_Radio_Talks/UDS2013680-558-full.txt  
  inflating: UMA_Fraser_Radio_Talks/UDS2013680-559-full.txt  
  inflating: UMA_Fraser_Radio_Talks/UDS2013680-55-full.txt  
  inflating: UMA_Fraser_Radio_Talks/UDS2013680-560-full.txt  
  inflating: UMA_Fraser_Radio_Talks/UDS2013680-561-full.txt  
  inflating: UMA_Fraser_Radio_Talks/UDS2013680-562-full.txt  
  inflating: UMA_Fraser_Radio_Talks/UDS2013680-563-full.txt  
  inflating: UMA_Fraser_Radio_Talks/UDS2013680-564-full.txt  
  inflating: UMA_Fraser_Radio_Talks/UDS2013680-565-full.txt  
  inflating: UMA_Fraser_Radio_Talks/UDS2013680-566-full.txt  
  inflating: UMA_Fraser_Radio_Talks/UDS2013680-567-full.txt  
  inflating: UMA_Fraser_Radio_Talks/UDS2013680-568-full.txt  
  inflating: UMA_Fraser_Radio_Talks/UDS2013680-569-full.txt  
  inflating: UMA_Fraser_Radio_Talks/UDS2013680-56-full.txt  
  inflating: UMA_Fraser_Radio_Talks/UDS2013680-570-full.txt  
  inflating: UMA_Fraser_Radio_Talks/UDS2013680-571-full.txt  
  inflating: UMA_Fraser_Radio_Talks/UDS2013680-572-full.txt  
  inflating: UMA_Fraser_Radio_Talks/UDS2013680-573-full.txt  
  inflating: UMA_Fraser_Radio_Talks/UDS2013680-574-full.txt  
  inflating: UMA_Fraser_Radio_Talks/UDS2013680-575-full.txt  
  inflating: UMA_Fraser_Radio_Talks/UDS2013680-576-full.txt  
  inflating: UMA_Fraser_Radio_Talks/UDS2013680-577-full.txt  
  inflating: UMA_Fraser_Radio_Talks/UDS2013680-578-full.txt  
  inflating: UMA_Fraser_Radio_Talks/UDS2013680-579-full.txt  
  inflating: UMA_Fraser_Radio_Talks/UDS2013680-57-full.txt  
  inflating: UMA_Fraser_Radio_Talks/UDS2013680-580-full.txt  
  inflating: UMA_Fraser_Radio_Talks/UDS2013680-581-full.txt  
  inflating: UMA_Fraser_Radio_Talks/UDS2013680-582-full.txt  
  inflating: UMA_Fraser_Radio_Talks/UDS2013680-583-full.txt  
  inflating: UMA_Fraser_Radio_Talks/UDS2013680-584-full.txt  
  inflating: UMA_Fraser_Radio_Talks/UDS2013680-585-full.txt  
  inflating: UMA_Fraser_Radio_Talks/UDS2013680-586-full.txt  
  inflating: UMA_Fraser_Radio_Talks/UDS2013680-587-full.txt  
  inflating: UMA_Fraser_Radio_Talks/UDS2013680-588-full.txt  
  inflating: UMA_Fraser_Radio_Talks/UDS2013680-589-full.txt  
  inflating: UMA_Fraser_Radio_Talks/UDS2013680-58-full.txt  
  inflating: UMA_Fraser_Radio_Talks/UDS2013680-590-full.txt  
  inflating: UMA_Fraser_Radio_Talks/UDS2013680-591-full.txt  
  inflating: UMA_Fraser_Radio_Talks/UDS2013680-592-full.txt  
  inflating: UMA_Fraser_Radio_Talks/UDS2013680-593-full.txt  
  inflating: UMA_Fraser_Radio_Talks/UDS2013680-594-full.txt  
  inflating: UMA_Fraser_Radio_Talks/UDS2013680-595-full.txt  
  inflating: UMA_Fraser_Radio_Talks/UDS2013680-596-full.txt  
  inflating: UMA_Fraser_Radio_Talks/UDS2013680-597-full.txt  
  inflating: UMA_Fraser_Radio_Talks/UDS2013680-598-full.txt  
  inflating: UMA_Fraser_Radio_Talks/UDS2013680-599-full.txt  
  inflating: UMA_Fraser_Radio_Talks/UDS2013680-59-full.txt  
  inflating: UMA_Fraser_Radio_Talks/UDS2013680-5-full.txt  
  inflating: UMA_Fraser_Radio_Talks/UDS2013680-600-full.txt  
  inflating: UMA_Fraser_Radio_Talks/UDS2013680-601-full.txt  
  inflating: UMA_Fraser_Radio_Talks/UDS2013680-602-full.txt  
  inflating: UMA_Fraser_Radio_Talks/UDS2013680-603-full.txt  
  inflating: UMA_Fraser_Radio_Talks/UDS2013680-604-full.txt  
  inflating: UMA_Fraser_Radio_Talks/UDS2013680-605-full.txt  
  inflating: UMA_Fraser_Radio_Talks/UDS2013680-606-full.txt  
  inflating: UMA_Fraser_Radio_Talks/UDS2013680-607-full.txt  
  inflating: UMA_Fraser_Radio_Talks/UDS2013680-608-full.txt  
  inflating: UMA_Fraser_Radio_Talks/UDS2013680-609-full.txt  
  inflating: UMA_Fraser_Radio_Talks/UDS2013680-60-full.txt  
  inflating: UMA_Fraser_Radio_Talks/UDS2013680-610-full.txt  
  inflating: UMA_Fraser_Radio_Talks/UDS2013680-611-full.txt  
  inflating: UMA_Fraser_Radio_Talks/UDS2013680-612-full.txt  
  inflating: UMA_Fraser_Radio_Talks/UDS2013680-613-full.txt  
  inflating: UMA_Fraser_Radio_Talks/UDS2013680-614-full.txt  
  inflating: UMA_Fraser_Radio_Talks/UDS2013680-615-full.txt  
  inflating: UMA_Fraser_Radio_Talks/UDS2013680-616-full.txt  
  inflating: UMA_Fraser_Radio_Talks/UDS2013680-617-full.txt  
  inflating: UMA_Fraser_Radio_Talks/UDS2013680-618-full.txt  
  inflating: UMA_Fraser_Radio_Talks/UDS2013680-619-full.txt  
  inflating: UMA_Fraser_Radio_Talks/UDS2013680-61-full.txt  
  inflating: UMA_Fraser_Radio_Talks/UDS2013680-620-full.txt  
  inflating: UMA_Fraser_Radio_Talks/UDS2013680-621-full.txt  
  inflating: UMA_Fraser_Radio_Talks/UDS2013680-622-full.txt  
  inflating: UMA_Fraser_Radio_Talks/UDS2013680-623-full.txt  
  inflating: UMA_Fraser_Radio_Talks/UDS2013680-624-full.txt  
  inflating: UMA_Fraser_Radio_Talks/UDS2013680-625-full.txt  
  inflating: UMA_Fraser_Radio_Talks/UDS2013680-626-full.txt  
  inflating: UMA_Fraser_Radio_Talks/UDS2013680-627-full.txt  
  inflating: UMA_Fraser_Radio_Talks/UDS2013680-628-full.txt  
  inflating: UMA_Fraser_Radio_Talks/UDS2013680-629-full.txt  
  inflating: UMA_Fraser_Radio_Talks/UDS2013680-62-full.txt  
  inflating: UMA_Fraser_Radio_Talks/UDS2013680-630-full.txt  
  inflating: UMA_Fraser_Radio_Talks/UDS2013680-631-full.txt  
  inflating: UMA_Fraser_Radio_Talks/UDS2013680-632-full.txt  
  inflating: UMA_Fraser_Radio_Talks/UDS2013680-633-full.txt  
  inflating: UMA_Fraser_Radio_Talks/UDS2013680-634-full.txt  
  inflating: UMA_Fraser_Radio_Talks/UDS2013680-635-full.txt  
  inflating: UMA_Fraser_Radio_Talks/UDS2013680-636-full.txt  
  inflating: UMA_Fraser_Radio_Talks/UDS2013680-637-full.txt  
  inflating: UMA_Fraser_Radio_Talks/UDS2013680-638-full.txt  
  inflating: UMA_Fraser_Radio_Talks/UDS2013680-639-full.txt  
  inflating: UMA_Fraser_Radio_Talks/UDS2013680-63-full.txt  
  inflating: UMA_Fraser_Radio_Talks/UDS2013680-640-full.txt  
  inflating: UMA_Fraser_Radio_Talks/UDS2013680-641-full.txt  
  inflating: UMA_Fraser_Radio_Talks/UDS2013680-642-full.txt  
  inflating: UMA_Fraser_Radio_Talks/UDS2013680-643-full.txt  
  inflating: UMA_Fraser_Radio_Talks/UDS2013680-644-full.txt  
  inflating: UMA_Fraser_Radio_Talks/UDS2013680-645-full.txt  
  inflating: UMA_Fraser_Radio_Talks/UDS2013680-646-full.txt  
  inflating: UMA_Fraser_Radio_Talks/UDS2013680-647-full.txt  
  inflating: UMA_Fraser_Radio_Talks/UDS2013680-648-full.txt  
  inflating: UMA_Fraser_Radio_Talks/UDS2013680-649-full.txt  
  inflating: UMA_Fraser_Radio_Talks/UDS2013680-64-full.txt  
  inflating: UMA_Fraser_Radio_Talks/UDS2013680-650-full.txt  
  inflating: UMA_Fraser_Radio_Talks/UDS2013680-651-full.txt  
  inflating: UMA_Fraser_Radio_Talks/UDS2013680-652-full.txt  
  inflating: UMA_Fraser_Radio_Talks/UDS2013680-653-full.txt  
  inflating: UMA_Fraser_Radio_Talks/UDS2013680-654-full.txt  
  inflating: UMA_Fraser_Radio_Talks/UDS2013680-655-full.txt  
  inflating: UMA_Fraser_Radio_Talks/UDS2013680-656-full.txt  
  inflating: UMA_Fraser_Radio_Talks/UDS2013680-657-full.txt  
  inflating: UMA_Fraser_Radio_Talks/UDS2013680-658-full.txt  
  inflating: UMA_Fraser_Radio_Talks/UDS2013680-659-full.txt  
  inflating: UMA_Fraser_Radio_Talks/UDS2013680-65-full.txt  
  inflating: UMA_Fraser_Radio_Talks/UDS2013680-660-full.txt  
  inflating: UMA_Fraser_Radio_Talks/UDS2013680-661-full.txt  
  inflating: UMA_Fraser_Radio_Talks/UDS2013680-662-full.txt  
  inflating: UMA_Fraser_Radio_Talks/UDS2013680-663-full.txt  
  inflating: UMA_Fraser_Radio_Talks/UDS2013680-664-full.txt  
  inflating: UMA_Fraser_Radio_Talks/UDS2013680-665-full.txt  
  inflating: UMA_Fraser_Radio_Talks/UDS2013680-666-full.txt  
  inflating: UMA_Fraser_Radio_Talks/UDS2013680-667-full.txt  
  inflating: UMA_Fraser_Radio_Talks/UDS2013680-668-full.txt  
  inflating: UMA_Fraser_Radio_Talks/UDS2013680-669-full.txt  
  inflating: UMA_Fraser_Radio_Talks/UDS2013680-66-full.txt  
  inflating: UMA_Fraser_Radio_Talks/UDS2013680-670-full.txt  
  inflating: UMA_Fraser_Radio_Talks/UDS2013680-671-full.txt  
  inflating: UMA_Fraser_Radio_Talks/UDS2013680-672-full.txt  
  inflating: UMA_Fraser_Radio_Talks/UDS2013680-673-full.txt  
  inflating: UMA_Fraser_Radio_Talks/UDS2013680-674-full.txt  
  inflating: UMA_Fraser_Radio_Talks/UDS2013680-675-full.txt  
  inflating: UMA_Fraser_Radio_Talks/UDS2013680-676-full.txt  
  inflating: UMA_Fraser_Radio_Talks/UDS2013680-677-full.txt  
  inflating: UMA_Fraser_Radio_Talks/UDS2013680-678-full.txt  
  inflating: UMA_Fraser_Radio_Talks/UDS2013680-679-full.txt  
  inflating: UMA_Fraser_Radio_Talks/UDS2013680-67-full.txt  
  inflating: UMA_Fraser_Radio_Talks/UDS2013680-680-full.txt  
  inflating: UMA_Fraser_Radio_Talks/UDS2013680-681-full.txt  
  inflating: UMA_Fraser_Radio_Talks/UDS2013680-682-full.txt  
  inflating: UMA_Fraser_Radio_Talks/UDS2013680-683-full.txt  
  inflating: UMA_Fraser_Radio_Talks/UDS2013680-684-full.txt  
  inflating: UMA_Fraser_Radio_Talks/UDS2013680-685-full.txt  
  inflating: UMA_Fraser_Radio_Talks/UDS2013680-686-full.txt  
  inflating: UMA_Fraser_Radio_Talks/UDS2013680-687-full.txt  
  inflating: UMA_Fraser_Radio_Talks/UDS2013680-688-full.txt  
  inflating: UMA_Fraser_Radio_Talks/UDS2013680-689-full.txt  
  inflating: UMA_Fraser_Radio_Talks/UDS2013680-68-full.txt  
  inflating: UMA_Fraser_Radio_Talks/UDS2013680-690-full.txt  
  inflating: UMA_Fraser_Radio_Talks/UDS2013680-691-full.txt  
  inflating: UMA_Fraser_Radio_Talks/UDS2013680-692-full.txt  
  inflating: UMA_Fraser_Radio_Talks/UDS2013680-693-full.txt  
  inflating: UMA_Fraser_Radio_Talks/UDS2013680-694-full.txt  
  inflating: UMA_Fraser_Radio_Talks/UDS2013680-695-full.txt  
  inflating: UMA_Fraser_Radio_Talks/UDS2013680-696-full.txt  
  inflating: UMA_Fraser_Radio_Talks/UDS2013680-697-full.txt  
  inflating: UMA_Fraser_Radio_Talks/UDS2013680-698-full.txt  
  inflating: UMA_Fraser_Radio_Talks/UDS2013680-699-full.txt  
  inflating: UMA_Fraser_Radio_Talks/UDS2013680-69-full.txt  
  inflating: UMA_Fraser_Radio_Talks/UDS2013680-6-full.txt  
  inflating: UMA_Fraser_Radio_Talks/UDS2013680-700-full.txt  
  inflating: UMA_Fraser_Radio_Talks/UDS2013680-701-full.txt  
  inflating: UMA_Fraser_Radio_Talks/UDS2013680-702-full.txt  
  inflating: UMA_Fraser_Radio_Talks/UDS2013680-703-full.txt  
  inflating: UMA_Fraser_Radio_Talks/UDS2013680-704-full.txt  
  inflating: UMA_Fraser_Radio_Talks/UDS2013680-705-full.txt  
  inflating: UMA_Fraser_Radio_Talks/UDS2013680-706-full.txt  
  inflating: UMA_Fraser_Radio_Talks/UDS2013680-707-full.txt  
  inflating: UMA_Fraser_Radio_Talks/UDS2013680-708-full.txt  
  inflating: UMA_Fraser_Radio_Talks/UDS2013680-709-full.txt  
  inflating: UMA_Fraser_Radio_Talks/UDS2013680-70-full.txt  
  inflating: UMA_Fraser_Radio_Talks/UDS2013680-710-full.txt  
  inflating: UMA_Fraser_Radio_Talks/UDS2013680-711-full.txt  
  inflating: UMA_Fraser_Radio_Talks/UDS2013680-712-full.txt  
  inflating: UMA_Fraser_Radio_Talks/UDS2013680-713-full.txt  
  inflating: UMA_Fraser_Radio_Talks/UDS2013680-714-full.txt  
  inflating: UMA_Fraser_Radio_Talks/UDS2013680-715-full.txt  
  inflating: UMA_Fraser_Radio_Talks/UDS2013680-716-full.txt  
  inflating: UMA_Fraser_Radio_Talks/UDS2013680-717-full.txt  
  inflating: UMA_Fraser_Radio_Talks/UDS2013680-718-full.txt  
  inflating: UMA_Fraser_Radio_Talks/UDS2013680-719-full.txt  
  inflating: UMA_Fraser_Radio_Talks/UDS2013680-71-full.txt  
  inflating: UMA_Fraser_Radio_Talks/UDS2013680-720-full.txt  
  inflating: UMA_Fraser_Radio_Talks/UDS2013680-721-full.txt  
  inflating: UMA_Fraser_Radio_Talks/UDS2013680-722-full.txt  
  inflating: UMA_Fraser_Radio_Talks/UDS2013680-723-full.txt  
  inflating: UMA_Fraser_Radio_Talks/UDS2013680-724-full.txt  
  inflating: UMA_Fraser_Radio_Talks/UDS2013680-725-full.txt  
  inflating: UMA_Fraser_Radio_Talks/UDS2013680-726-full.txt  
  inflating: UMA_Fraser_Radio_Talks/UDS2013680-727-full.txt  
  inflating: UMA_Fraser_Radio_Talks/UDS2013680-728-full.txt  
  inflating: UMA_Fraser_Radio_Talks/UDS2013680-729-full.txt  
  inflating: UMA_Fraser_Radio_Talks/UDS2013680-72-full.txt  
  inflating: UMA_Fraser_Radio_Talks/UDS2013680-730-full.txt  
  inflating: UMA_Fraser_Radio_Talks/UDS2013680-731-full.txt  
  inflating: UMA_Fraser_Radio_Talks/UDS2013680-732-full.txt  
  inflating: UMA_Fraser_Radio_Talks/UDS2013680-733-full.txt  
  inflating: UMA_Fraser_Radio_Talks/UDS2013680-734-full.txt  
  inflating: UMA_Fraser_Radio_Talks/UDS2013680-735-full.txt  
  inflating: UMA_Fraser_Radio_Talks/UDS2013680-736-full.txt  
  inflating: UMA_Fraser_Radio_Talks/UDS2013680-737-full.txt  
  inflating: UMA_Fraser_Radio_Talks/UDS2013680-738-full.txt  
  inflating: UMA_Fraser_Radio_Talks/UDS2013680-739-full.txt  
  inflating: UMA_Fraser_Radio_Talks/UDS2013680-73-full.txt  
  inflating: UMA_Fraser_Radio_Talks/UDS2013680-740-full.txt  
  inflating: UMA_Fraser_Radio_Talks/UDS2013680-741-full.txt  
  inflating: UMA_Fraser_Radio_Talks/UDS2013680-742-full.txt  
  inflating: UMA_Fraser_Radio_Talks/UDS2013680-743-full.txt  
  inflating: UMA_Fraser_Radio_Talks/UDS2013680-744-full.txt  
  inflating: UMA_Fraser_Radio_Talks/UDS2013680-745-full.txt  
  inflating: UMA_Fraser_Radio_Talks/UDS2013680-746-full.txt  
  inflating: UMA_Fraser_Radio_Talks/UDS2013680-747-full.txt  
  inflating: UMA_Fraser_Radio_Talks/UDS2013680-748-full.txt  
  inflating: UMA_Fraser_Radio_Talks/UDS2013680-74-full.txt  
  inflating: UMA_Fraser_Radio_Talks/UDS2013680-750-full.txt  
  inflating: UMA_Fraser_Radio_Talks/UDS2013680-751-full.txt  
  inflating: UMA_Fraser_Radio_Talks/UDS2013680-752-full.txt  
  inflating: UMA_Fraser_Radio_Talks/UDS2013680-753-full.txt  
  inflating: UMA_Fraser_Radio_Talks/UDS2013680-754-full.txt  
  inflating: UMA_Fraser_Radio_Talks/UDS2013680-755-full.txt  
  inflating: UMA_Fraser_Radio_Talks/UDS2013680-756-full.txt  
  inflating: UMA_Fraser_Radio_Talks/UDS2013680-757-full.txt  
  inflating: UMA_Fraser_Radio_Talks/UDS2013680-758-full.txt  
  inflating: UMA_Fraser_Radio_Talks/UDS2013680-759-full.txt  
  inflating: UMA_Fraser_Radio_Talks/UDS2013680-75-full.txt  
  inflating: UMA_Fraser_Radio_Talks/UDS2013680-760-full.txt  
  inflating: UMA_Fraser_Radio_Talks/UDS2013680-761-full.txt  
  inflating: UMA_Fraser_Radio_Talks/UDS2013680-762-full.txt  
  inflating: UMA_Fraser_Radio_Talks/UDS2013680-763-full.txt  
  inflating: UMA_Fraser_Radio_Talks/UDS2013680-764-full.txt  
  inflating: UMA_Fraser_Radio_Talks/UDS2013680-765-full.txt  
  inflating: UMA_Fraser_Radio_Talks/UDS2013680-766-full.txt  
  inflating: UMA_Fraser_Radio_Talks/UDS2013680-767-full.txt  
  inflating: UMA_Fraser_Radio_Talks/UDS2013680-768-full.txt  
  inflating: UMA_Fraser_Radio_Talks/UDS2013680-769-full.txt  
  inflating: UMA_Fraser_Radio_Talks/UDS2013680-76-full.txt  
  inflating: UMA_Fraser_Radio_Talks/UDS2013680-770-full.txt  
  inflating: UMA_Fraser_Radio_Talks/UDS2013680-771-full.txt  
  inflating: UMA_Fraser_Radio_Talks/UDS2013680-772-full.txt  
  inflating: UMA_Fraser_Radio_Talks/UDS2013680-773-full.txt  
  inflating: UMA_Fraser_Radio_Talks/UDS2013680-774-full.txt  
  inflating: UMA_Fraser_Radio_Talks/UDS2013680-775-full.txt  
  inflating: UMA_Fraser_Radio_Talks/UDS2013680-776-full.txt  
  inflating: UMA_Fraser_Radio_Talks/UDS2013680-777-full.txt  
  inflating: UMA_Fraser_Radio_Talks/UDS2013680-778-full.txt  
  inflating: UMA_Fraser_Radio_Talks/UDS2013680-779-full.txt  
  inflating: UMA_Fraser_Radio_Talks/UDS2013680-77-full.txt  
  inflating: UMA_Fraser_Radio_Talks/UDS2013680-780-full.txt  
  inflating: UMA_Fraser_Radio_Talks/UDS2013680-781-full.txt  
  inflating: UMA_Fraser_Radio_Talks/UDS2013680-782-full.txt  
  inflating: UMA_Fraser_Radio_Talks/UDS2013680-78-full.txt  
  inflating: UMA_Fraser_Radio_Talks/UDS2013680-79-full.txt  
  inflating: UMA_Fraser_Radio_Talks/UDS2013680-7-full.txt  
  inflating: UMA_Fraser_Radio_Talks/UDS2013680-80-full.txt  
  inflating: UMA_Fraser_Radio_Talks/UDS2013680-81-full.txt  
  inflating: UMA_Fraser_Radio_Talks/UDS2013680-82-full.txt  
  inflating: UMA_Fraser_Radio_Talks/UDS2013680-83-full.txt  
  inflating: UMA_Fraser_Radio_Talks/UDS2013680-84-full.txt  
  inflating: UMA_Fraser_Radio_Talks/UDS2013680-85-full.txt  
  inflating: UMA_Fraser_Radio_Talks/UDS2013680-86-full.txt  
  inflating: UMA_Fraser_Radio_Talks/UDS2013680-87-full.txt  
  inflating: UMA_Fraser_Radio_Talks/UDS2013680-88-full.txt  
  inflating: UMA_Fraser_Radio_Talks/UDS2013680-89-full.txt  
  inflating: UMA_Fraser_Radio_Talks/UDS2013680-8-full.txt  
  inflating: UMA_Fraser_Radio_Talks/UDS2013680-90-full.txt  
  inflating: UMA_Fraser_Radio_Talks/UDS2013680-91-full.txt  
  inflating: UMA_Fraser_Radio_Talks/UDS2013680-92-full.txt  
  inflating: UMA_Fraser_Radio_Talks/UDS2013680-93-full.txt  
  inflating: UMA_Fraser_Radio_Talks/UDS2013680-94-full.txt  
  inflating: UMA_Fraser_Radio_Talks/UDS2013680-95-full.txt  
  inflating: UMA_Fraser_Radio_Talks/UDS2013680-96-full.txt  
  inflating: UMA_Fraser_Radio_Talks/UDS2013680-97-full.txt  
  inflating: UMA_Fraser_Radio_Talks/UDS2013680-98-full.txt  
  inflating: UMA_Fraser_Radio_Talks/UDS2013680-99-full.txt  
  inflating: UMA_Fraser_Radio_Talks/UDS2013680-9-full.txt  

In [145]:

!ls

NLTKlearning.ipynb	UMA_Fraser_Radio_Talks.zip
UMA_Fraser_Radio_Talks	nltk_data

In [146]:

len(UMA_Fraser_Radio_Talks)

---------------------------------------------------------------------------
NameError                                 Traceback (most recent call last)
<ipython-input-146-af5c9ed3bbbc> in <module>()
----> 1 len(UMA_Fraser_Radio_Talks)

NameError: name 'UMA_Fraser_Radio_Talks' is not defined

In [ ]:

 

